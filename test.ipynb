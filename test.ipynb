{
 "cells": [
  {
   "cell_type": "code",
   "execution_count": 1,
   "metadata": {},
   "outputs": [],
   "source": [
    "import equinox as eqx"
   ]
  },
  {
   "cell_type": "code",
   "execution_count": 8,
   "metadata": {},
   "outputs": [
    {
     "name": "stdout",
     "output_type": "stream",
     "text": [
      "module @jit_f {\n",
      "  func.func public @main() {\n",
      "    return\n",
      "  }\n",
      "}\n",
      "\n"
     ]
    },
    {
     "ename": "TypeError",
     "evalue": "function compiled for PyTreeDef(((((None,), (None, None)),), {})), called with PyTreeDef(((*, *), {}))",
     "output_type": "error",
     "traceback": [
      "\u001b[0;31m---------------------------------------------------------------------------\u001b[0m",
      "\u001b[0;31mTypeError\u001b[0m                                 Traceback (most recent call last)",
      "Cell \u001b[0;32mIn[8], line 21\u001b[0m\n\u001b[1;32m     14\u001b[0m compiled \u001b[39m=\u001b[39m lowered\u001b[39m.\u001b[39mcompile()\n\u001b[1;32m     16\u001b[0m \u001b[39m# Query for cost analysis, print FLOP estimate\u001b[39;00m\n\u001b[1;32m     17\u001b[0m \u001b[39m# print(compiled.cost_analysis()[0]['flops'])\u001b[39;00m\n\u001b[1;32m     18\u001b[0m \u001b[39m# 2.0\u001b[39;00m\n\u001b[1;32m     19\u001b[0m \n\u001b[1;32m     20\u001b[0m \u001b[39m# Execute the compiled function!\u001b[39;00m\n\u001b[0;32m---> 21\u001b[0m compiled(x, y)\n",
      "File \u001b[0;32m~/JaxIsingModel/.venv/lib/python3.11/site-packages/jax/_src/stages.py:530\u001b[0m, in \u001b[0;36mCompiled.__call__\u001b[0;34m(self, *args, **kwargs)\u001b[0m\n\u001b[1;32m    528\u001b[0m \u001b[39mdef\u001b[39;00m \u001b[39m__call__\u001b[39m(\u001b[39mself\u001b[39m, \u001b[39m*\u001b[39margs, \u001b[39m*\u001b[39m\u001b[39m*\u001b[39mkwargs):\n\u001b[1;32m    529\u001b[0m   \u001b[39mif\u001b[39;00m \u001b[39mself\u001b[39m\u001b[39m.\u001b[39m_cpp_call \u001b[39mis\u001b[39;00m \u001b[39mnot\u001b[39;00m \u001b[39mNone\u001b[39;00m:\n\u001b[0;32m--> 530\u001b[0m     \u001b[39mreturn\u001b[39;00m \u001b[39mself\u001b[39;49m\u001b[39m.\u001b[39;49m_cpp_call(\u001b[39m*\u001b[39;49margs, \u001b[39m*\u001b[39;49m\u001b[39m*\u001b[39;49mkwargs)\n\u001b[1;32m    532\u001b[0m   outs, _, _ \u001b[39m=\u001b[39m Compiled\u001b[39m.\u001b[39mcall(\u001b[39mself\u001b[39m\u001b[39m.\u001b[39m_params, \u001b[39m*\u001b[39margs, \u001b[39m*\u001b[39m\u001b[39m*\u001b[39mkwargs)\n\u001b[1;32m    533\u001b[0m   \u001b[39mreturn\u001b[39;00m outs\n",
      "File \u001b[0;32m~/JaxIsingModel/.venv/lib/python3.11/site-packages/jax/_src/interpreters/pxla.py:3199\u001b[0m, in \u001b[0;36mMeshExecutable.create_cpp_call.<locals>.aot_cache_miss\u001b[0;34m(*args, **kwargs)\u001b[0m\n\u001b[1;32m   3197\u001b[0m \u001b[39mdef\u001b[39;00m \u001b[39maot_cache_miss\u001b[39m(\u001b[39m*\u001b[39margs, \u001b[39m*\u001b[39m\u001b[39m*\u001b[39mkwargs):\n\u001b[1;32m   3198\u001b[0m   params \u001b[39m=\u001b[39m stages\u001b[39m.\u001b[39mCompiledCallParams(\u001b[39mself\u001b[39m, no_kwargs, in_tree, out_tree)\n\u001b[0;32m-> 3199\u001b[0m   outs, out_flat, args_flat \u001b[39m=\u001b[39m stages\u001b[39m.\u001b[39;49mCompiled\u001b[39m.\u001b[39;49mcall(params, \u001b[39m*\u001b[39;49margs, \u001b[39m*\u001b[39;49m\u001b[39m*\u001b[39;49mkwargs)\n\u001b[1;32m   3200\u001b[0m   use_fastpath \u001b[39m=\u001b[39m (\u001b[39mall\u001b[39m(\u001b[39misinstance\u001b[39m(x, xc\u001b[39m.\u001b[39mArrayImpl) \u001b[39mfor\u001b[39;00m x \u001b[39min\u001b[39;00m out_flat))\n\u001b[1;32m   3202\u001b[0m   \u001b[39mif\u001b[39;00m use_fastpath:\n",
      "File \u001b[0;32m~/JaxIsingModel/.venv/lib/python3.11/site-packages/jax/_src/stages.py:504\u001b[0m, in \u001b[0;36mCompiled.call\u001b[0;34m(*args, **kwargs)\u001b[0m\n\u001b[1;32m    500\u001b[0m args_flat, in_tree \u001b[39m=\u001b[39m tree_util\u001b[39m.\u001b[39mtree_flatten((args, kwargs))\n\u001b[1;32m    501\u001b[0m \u001b[39mif\u001b[39;00m in_tree \u001b[39m!=\u001b[39m params\u001b[39m.\u001b[39min_tree:\n\u001b[1;32m    502\u001b[0m   \u001b[39m# TODO(frostig): provide more info about the source function\u001b[39;00m\n\u001b[1;32m    503\u001b[0m   \u001b[39m# and transformation\u001b[39;00m\n\u001b[0;32m--> 504\u001b[0m   \u001b[39mraise\u001b[39;00m \u001b[39mTypeError\u001b[39;00m(\n\u001b[1;32m    505\u001b[0m       \u001b[39mf\u001b[39m\u001b[39m\"\u001b[39m\u001b[39mfunction compiled for \u001b[39m\u001b[39m{\u001b[39;00mparams\u001b[39m.\u001b[39min_tree\u001b[39m}\u001b[39;00m\u001b[39m, called with \u001b[39m\u001b[39m{\u001b[39;00min_tree\u001b[39m}\u001b[39;00m\u001b[39m\"\u001b[39m)\n\u001b[1;32m    506\u001b[0m \u001b[39mtry\u001b[39;00m:\n\u001b[1;32m    507\u001b[0m   out_flat \u001b[39m=\u001b[39m params\u001b[39m.\u001b[39mexecutable\u001b[39m.\u001b[39mcall(\u001b[39m*\u001b[39margs_flat)\n",
      "\u001b[0;31mTypeError\u001b[0m: function compiled for PyTreeDef(((((None,), (None, None)),), {})), called with PyTreeDef(((*, *), {}))"
     ]
    }
   ],
   "source": [
    "import jax.numpy as jnp\n",
    "from jax import lax\n",
    "from jax.experimental import io_callback\n",
    "from tqdm import tqdm\n",
    "\n",
    "\n",
    "def f(x, y):\n",
    "    return 2 * x + y\n",
    "\n",
    "\n",
    "x, y = 3, 4\n",
    "\n",
    "# lowered = jax.jit(f).lower(x, y)\n",
    "lowered = eqx.filter_jit(f).lower(x, y)\n",
    "\n",
    "# Print lowered HLO\n",
    "print(lowered.as_text())\n",
    "\n",
    "compiled = lowered.compile()\n",
    "\n",
    "# Query for cost analysis, print FLOP estimate\n",
    "# print(compiled.cost_analysis()[0]['flops'])\n",
    "# 2.0\n",
    "\n",
    "# Execute the compiled function!\n",
    "compiled(x, y)"
   ]
  },
  {
   "cell_type": "code",
   "execution_count": null,
   "metadata": {},
   "outputs": [],
   "source": [
    "def make_device_calls(num: int):\n",
    "    pbar = tqdm(total=1)\n",
    "    print_rate = 20\n",
    "    assert print_rate != 0\n",
    "\n",
    "    remainder = num % print_rate\n",
    "\n",
    "    steps_taken = 0\n",
    "    num_inits = 0  # Track how many parallel calls we get\n",
    "\n",
    "    def host_update_pbar(*, num_steps: int):\n",
    "        nonlocal steps_taken\n",
    "        nonlocal num_inits\n",
    "        nonlocal pbar\n",
    "\n",
    "        if num_steps == 0:\n",
    "            num_inits += 1\n",
    "            pbar = tqdm(initial=steps_taken, total=num_inits * num)\n",
    "        else:\n",
    "            pbar.update(num_steps)\n",
    "\n",
    "    def host_close_pbar():\n",
    "        nonlocal pbar\n",
    "        pbar.close()\n",
    "\n",
    "    def device_update_pbar(*, step: int):\n",
    "        lax.cond(\n",
    "            step == 0,\n",
    "            lambda: io_callback(host_update_pbar, None, ordered=False, num_steps=0),\n",
    "            lambda: None,\n",
    "        )\n",
    "\n",
    "        lax.cond(\n",
    "            # update tqdm every multiple of `print_rate` except at the end\n",
    "            (step % print_rate == 0) & (step != num - remainder),\n",
    "            lambda: io_callback(\n",
    "                host_update_pbar, None, ordered=False, num_steps=print_rate\n",
    "            ),\n",
    "            lambda: None,\n",
    "        )\n",
    "\n",
    "        lax.cond(\n",
    "            # update tqdm by `remainder`\n",
    "            step == num - remainder,\n",
    "            lambda: io_callback(\n",
    "                host_update_pbar, None, ordered=False, num_steps=remainder\n",
    "            ),\n",
    "            lambda: None,\n",
    "        )\n",
    "\n",
    "    def device_close_pbar(step: int):\n",
    "        lax.cond(\n",
    "            step == num - 1,\n",
    "            lambda: io_callback(host_close_pbar, None, ordered=False),\n",
    "            lambda: None,\n",
    "        )\n",
    "\n",
    "    return device_update_pbar, device_close_pbar\n",
    "\n",
    "\n",
    "def loop_tqdm(num: int):\n",
    "    update_pbar, close_pbar = make_device_calls(num=num)\n",
    "\n",
    "    def inner(func):\n",
    "        # This is body function of loop\n",
    "        def wrapper(i, val):\n",
    "            update_pbar(step=i)\n",
    "            result = func(i, val)\n",
    "            close_pbar(step=i)\n",
    "            return result\n",
    "\n",
    "        return wrapper\n",
    "\n",
    "    return inner\n",
    "\n",
    "\n",
    "def scan_tqdm(num: int):\n",
    "    update_pbar, close_pbar = make_device_calls(num=num)\n",
    "\n",
    "    def inner(func):\n",
    "        def wrapper(carry, x):\n",
    "            assert isinstance(x, tuple)\n",
    "            step, *x_inner = x\n",
    "\n",
    "            update_pbar(step=step)\n",
    "            result = func(carry, x_inner)\n",
    "\n",
    "            close_pbar(step=step)\n",
    "\n",
    "            return result\n",
    "\n",
    "        return wrapper\n",
    "\n",
    "    return inner"
   ]
  },
  {
   "cell_type": "code",
   "execution_count": null,
   "metadata": {},
   "outputs": [
    {
     "name": "stderr",
     "output_type": "stream",
     "text": [
      "100%|██████████| 10/10 [00:00<00:00, 15087.42it/s]\n"
     ]
    },
    {
     "data": {
      "text/plain": [
       "Array(45, dtype=int32, weak_type=True)"
      ]
     },
     "execution_count": 40,
     "metadata": {},
     "output_type": "execute_result"
    }
   ],
   "source": [
    "@loop_tqdm(num=10)\n",
    "def body_fun(i, val):\n",
    "    return val + i\n",
    "\n",
    "\n",
    "lax.fori_loop(0, 10, body_fun, 0)"
   ]
  },
  {
   "cell_type": "code",
   "execution_count": null,
   "metadata": {},
   "outputs": [
    {
     "name": "stdout",
     "output_type": "stream",
     "text": [
      "Traced<ShapedArray(int32[], weak_type=True)>with<DynamicJaxprTrace(level=1/0)>\n",
      "Traced<ShapedArray(int32[])>with<DynamicJaxprTrace(level=1/0)>\n"
     ]
    },
    {
     "name": "stderr",
     "output_type": "stream",
     "text": [
      "100%|██████████| 10/10 [00:00<00:00, 13976.35it/s]\n"
     ]
    },
    {
     "data": {
      "text/plain": [
       "(Array(45, dtype=int32),\n",
       " Array([ 0,  1,  3,  6, 10, 15, 21, 28, 36, 45], dtype=int32))"
      ]
     },
     "execution_count": 45,
     "metadata": {},
     "output_type": "execute_result"
    }
   ],
   "source": [
    "@scan_tqdm(num=10)\n",
    "def body_fun(carry, x):\n",
    "    x = x[0]\n",
    "    return carry + x, carry + x\n",
    "\n",
    "\n",
    "lax.scan(body_fun, 0, (jnp.arange(10), jnp.arange(10)))"
   ]
  },
  {
   "cell_type": "code",
   "execution_count": null,
   "metadata": {},
   "outputs": [
    {
     "name": "stdout",
     "output_type": "stream",
     "text": [
      "(array(1, dtype=int32),)\n",
      "{'kw': array(2, dtype=int32)}\n"
     ]
    },
    {
     "data": {
      "text/plain": [
       "Array([1], dtype=int32)"
      ]
     },
     "execution_count": 34,
     "metadata": {},
     "output_type": "execute_result"
    }
   ],
   "source": [
    "def host_func(*args, **kwargs):\n",
    "    print(args)\n",
    "    print(kwargs)\n",
    "\n",
    "\n",
    "@eqx.filter_jit\n",
    "def jax_func():\n",
    "    io_callback(\n",
    "        host_func, jnp.empty((1,)), jnp.asarray(1), ordered=False, kw=jnp.asarray(2)\n",
    "    )\n",
    "    return jnp.asarray([1])\n",
    "\n",
    "\n",
    "jax_func()"
   ]
  }
 ],
 "metadata": {
  "kernelspec": {
   "display_name": ".venv",
   "language": "python",
   "name": "python3"
  },
  "language_info": {
   "codemirror_mode": {
    "name": "ipython",
    "version": 3
   },
   "file_extension": ".py",
   "mimetype": "text/x-python",
   "name": "python",
   "nbconvert_exporter": "python",
   "pygments_lexer": "ipython3",
   "version": "3.11.3"
  },
  "orig_nbformat": 4
 },
 "nbformat": 4,
 "nbformat_minor": 2
}
