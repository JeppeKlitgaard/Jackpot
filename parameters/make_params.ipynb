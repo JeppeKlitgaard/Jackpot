{
 "cells": [
  {
   "cell_type": "code",
   "execution_count": 4,
   "metadata": {},
   "outputs": [
    {
     "data": {
      "text/plain": [
       "PosixPath('/home/jeppe/JaxIsingModel/parameters')"
      ]
     },
     "execution_count": 4,
     "metadata": {},
     "output_type": "execute_result"
    }
   ],
   "source": [
    "from pathlib import Path\n",
    "import itertools as it\n",
    "import yaml\n",
    "\n",
    "p = Path().resolve()\n",
    "p"
   ]
  },
  {
   "cell_type": "code",
   "execution_count": 5,
   "metadata": {},
   "outputs": [
    {
     "name": "stdout",
     "output_type": "stream",
     "text": [
      "N16_wolff\n",
      "N16_metropolis_hastings\n",
      "N32_wolff\n",
      "N32_metropolis_hastings\n",
      "N64_wolff\n",
      "N64_metropolis_hastings\n",
      "N128_wolff\n",
      "N128_metropolis_hastings\n",
      "N256_wolff\n",
      "N256_metropolis_hastings\n",
      "N512_wolff\n",
      "N512_metropolis_hastings\n"
     ]
    }
   ],
   "source": [
    "# Make autocorrelation parameters\n",
    "N = [16, 32, 64, 128, 256, 512]\n",
    "ALGORITHMS = [\"wolff\", \"metropolis_hastings\"]\n",
    "\n",
    "for n, alg in it.product(N, ALGORITHMS):\n",
    "    fn = f\"N{n}_{alg}\"\n",
    "    print(fn)\n",
    "    data = {\n",
    "        \"SIZE\": n,\n",
    "        \"ALGORITHM\": alg,\n",
    "        \"DO_AUTOCORRELATION\": True,\n",
    "        \"DO_MEASURE\": False,\n",
    "        \"N_TEMPS\": 64,\n",
    "        \"TOTAL_SAMPLES\": 512,\n",
    "        \"N_SAMPLES_VECTORISE\": 8,\n",
    "        \"TEMP_MIN\": 0.9,\n",
    "        \"TEMP_MAX\": 1.4,\n",
    "    }\n",
    "\n",
    "    if alg == \"metropolis_hastings\":\n",
    "        data[\"JAX_PLATFORM\"] = \"cpu\"\n",
    "\n",
    "    with open(p / \"autocorrelation\" / f\"{fn}.yaml\", \"w\") as f:\n",
    "        yaml.dump(data, f)"
   ]
  }
 ],
 "metadata": {
  "kernelspec": {
   "display_name": ".venv",
   "language": "python",
   "name": "python3"
  },
  "language_info": {
   "codemirror_mode": {
    "name": "ipython",
    "version": 3
   },
   "file_extension": ".py",
   "mimetype": "text/x-python",
   "name": "python",
   "nbconvert_exporter": "python",
   "pygments_lexer": "ipython3",
   "version": "3.11.3"
  },
  "orig_nbformat": 4
 },
 "nbformat": 4,
 "nbformat_minor": 2
}
