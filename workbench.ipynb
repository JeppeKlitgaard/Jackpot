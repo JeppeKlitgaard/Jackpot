{
 "cells": [
  {
   "cell_type": "code",
   "execution_count": 1,
   "metadata": {},
   "outputs": [],
   "source": [
    "from ising.model import IsingModelND\n",
    "import numpy as np\n",
    "from ipywidgets import interact\n",
    "from scipy import constants\n",
    "from jax.config import config\n",
    "import jax.numpy as jnp\n",
    "import jax\n",
    "from tqdm.auto import tqdm\n",
    "from copy import deepcopy\n",
    "import matplotlib.pyplot as plt\n",
    "from ising import primitives\n",
    "import os\n",
    "from uncertainties import unumpy as unp\n",
    "from uncertainties import ufloat as uf\n",
    "\n",
    "# CPU cores as separate devices\n",
    "os.environ['XLA_FLAGS'] = f'--xla_force_host_platform_device_count={os.cpu_count()}'\n",
    "\n",
    "config.update(\"jax_enable_x64\", True)\n",
    "\n",
    "%load_ext autoreload\n",
    "%autoreload 2"
   ]
  },
  {
   "cell_type": "code",
   "execution_count": 2,
   "metadata": {},
   "outputs": [
    {
     "name": "stderr",
     "output_type": "stream",
     "text": [
      "WARNING:absl:No GPU/TPU found, falling back to CPU. (Set TF_CPP_MIN_LOG_LEVEL=0 and rerun for more info.)\n"
     ]
    },
    {
     "name": "stdout",
     "output_type": "stream",
     "text": [
      "Doing 6400000 MCMC steps\n"
     ]
    },
    {
     "data": {
      "application/vnd.jupyter.widget-view+json": {
       "model_id": "7dce7d6970944c119fadfe0581a3e441",
       "version_major": 2,
       "version_minor": 0
      },
      "text/plain": [
       "  0%|          | 0/20 [00:00<?, ?it/s]"
      ]
     },
     "metadata": {},
     "output_type": "display_data"
    },
    {
     "name": "stdout",
     "output_type": "stream",
     "text": [
      "0: 0.50\n",
      "1: 0.50\n",
      "2: 0.50\n",
      "3: 0.50\n",
      "4: 0.50\n",
      "5: 0.50\n",
      "6: 0.50\n",
      "7: 0.50\n",
      "8: 0.50\n",
      "9: 0.50\n",
      "10: 0.50\n",
      "11: 0.50\n",
      "12: 0.50\n",
      "13: 0.50\n",
      "14: 0.50\n",
      "15: 0.50\n",
      "16: 0.50\n",
      "17: 0.50\n",
      "18: 0.50\n",
      "19: 0.50\n",
      "20: 0.50\n",
      "21: 0.50\n",
      "22: 0.49\n",
      "23: 0.48\n",
      "24: 0.45\n",
      "25: 0.41\n",
      "26: 0.35\n",
      "27: 0.27\n",
      "28: 0.19\n",
      "29: 0.13\n",
      "30: 0.12\n",
      "31: 0.07\n"
     ]
    },
    {
     "data": {
      "image/png": "[encoded data removed]",
      "text/plain": [
       "<Figure size 864x864 with 1 Axes>"
      ]
     },
     "metadata": {
      "needs_background": "light"
     },
     "output_type": "display_data"
    }
   ],
   "source": [
    "interaction_bilinear = 1.0\n",
    "interaction_external_field = interaction_bilinear\n",
    "nuclear_magnetic_moment = 1.0\n",
    "\n",
    "temperatures = np.geomspace(0.02, 5, 2**5) / constants.Boltzmann * interaction_bilinear\n",
    "\n",
    "model = IsingModelND(\n",
    "    2,\n",
    "    size=64,\n",
    "    spin=1 / 2,\n",
    "    interaction_bilinear=interaction_bilinear,\n",
    "    interaction_external_field=interaction_external_field,\n",
    "    nuclear_magnetic_moment=nuclear_magnetic_moment,\n",
    ")\n",
    "model.initial_state.plot()\n",
    "\n",
    "steps_per_state = int(1e4)\n",
    "num_states = 20\n",
    "states = [model.initial_state.copy() for n in range(len(temperatures))]\n",
    "all_states = [list(state.copy() for state in states)]\n",
    "print(f\"Doing {steps_per_state * num_states * len(temperatures)} MCMC steps\")\n",
    "\n",
    "for n in tqdm(range(num_states)):\n",
    "    model.run_steps(states, steps_per_state, temperatures, bc_mode=\"periodic\")\n",
    "    all_states.append([state.copy() for state in states])\n",
    "\n",
    "end_magnetisations = [model.get_magnetisation(state) for state in all_states[-1]]\n",
    "\n",
    "for i, mag in enumerate(end_magnetisations):\n",
    "    print(f\"{i}: {mag:.2f}\")\n"
   ]
  },
  {
   "cell_type": "code",
   "execution_count": 3,
   "metadata": {},
   "outputs": [],
   "source": [
    "# temperature_n = 8\n",
    "# @interact(value=0, min=0, max=len(all_states))\n",
    "# def update(i=(0, len(all_states) - 1)):\n",
    "\n",
    "#     all_states[i][temperature_n].plot()"
   ]
  },
  {
   "cell_type": "code",
   "execution_count": 4,
   "metadata": {},
   "outputs": [
    {
     "data": {
      "application/vnd.jupyter.widget-view+json": {
       "model_id": "6054b7f83d8b42208f3885feb0a0fc5a",
       "version_major": 2,
       "version_minor": 0
      },
      "text/plain": [
       "interactive(children=(IntSlider(value=15, description='i', max=31), Output()), _dom_classes=('widget-interact'…"
      ]
     },
     "metadata": {},
     "output_type": "display_data"
    }
   ],
   "source": [
    "# End states\n",
    "@interact(value=0, min=0, max=len(temperatures))\n",
    "def update(i=(0, len(temperatures) - 1)):\n",
    "\n",
    "    all_states[-1][i].plot()"
   ]
  },
  {
   "cell_type": "code",
   "execution_count": 5,
   "metadata": {},
   "outputs": [
    {
     "data": {
      "text/plain": [
       "<matplotlib.collections.PathCollection at 0x7fb2547b4b20>"
      ]
     },
     "execution_count": 5,
     "metadata": {},
     "output_type": "execute_result"
    },
    {
     "data": {
      "image/png": "[encoded data removed]",
      "text/plain": [
       "<Figure size 432x288 with 1 Axes>"
      ]
     },
     "metadata": {
      "needs_background": "light"
     },
     "output_type": "display_data"
    }
   ],
   "source": [
    "plt.figure()\n",
    "x = np.array(temperatures * constants.Boltzmann / interaction_bilinear)\n",
    "y = [model.get_magnetisation(state) for state in all_states[-1]]\n",
    "\n",
    "plt.scatter(x, y)\n"
   ]
  },
  {
   "cell_type": "code",
   "execution_count": 6,
   "metadata": {},
   "outputs": [
    {
     "data": {
      "application/vnd.jupyter.widget-view+json": {
       "model_id": "15a148880ba142a9a4dfff15329a38e3",
       "version_major": 2,
       "version_minor": 0
      },
      "text/plain": [
       "  0%|          | 0/500 [00:00<?, ?it/s]"
      ]
     },
     "metadata": {},
     "output_type": "display_data"
    }
   ],
   "source": [
    "states = all_states[-1]\n",
    "energy_devs = []\n",
    "for i in tqdm(range(500)):\n",
    "    energy_devs.append([model.get_energy(state) for state in states])\n",
    "    model.run_steps(states, 1, temperatures, bc_mode = \"constant\")\n"
   ]
  },
  {
   "cell_type": "code",
   "execution_count": 7,
   "metadata": {},
   "outputs": [
    {
     "name": "stdout",
     "output_type": "stream",
     "text": [
      "(500, 32)\n",
      "(32,)\n"
     ]
    },
    {
     "data": {
      "text/plain": [
       "[<matplotlib.lines.Line2D at 0x7fb2545684f0>]"
      ]
     },
     "execution_count": 7,
     "metadata": {},
     "output_type": "execute_result"
    },
    {
     "data": {
      "image/png": "[encoded data removed]",
      "text/plain": [
       "<Figure size 432x288 with 1 Axes>"
      ]
     },
     "metadata": {
      "needs_background": "light"
     },
     "output_type": "display_data"
    }
   ],
   "source": [
    "e_devs = np.array(energy_devs)\n",
    "print(e_devs.shape)\n",
    "e_std = e_devs.std(axis=0)\n",
    "print(e_std.shape)\n",
    "\n",
    "heat_caps = np.square(e_std / (constants.Boltzmann * temperatures))\n",
    "\n",
    "plt.plot(x, heat_caps, \"o\")"
   ]
  },
  {
   "cell_type": "code",
   "execution_count": 9,
   "metadata": {},
   "outputs": [
    {
     "name": "stdout",
     "output_type": "stream",
     "text": [
      "32\n",
      "32\n",
      "1.7173253601682403\n",
      "(8, 4, 64, 64)\n",
      "(8, 4, 2500, 2)\n",
      "(8, 4)\n",
      "[[1.65809955e+03 1.26766460e-01]\n",
      " [1.65792735e+03 1.26687788e-01]\n",
      " [1.65775229e+03 1.26692431e-01]\n",
      " ...\n",
      " [1.65820777e+03 1.26730539e-01]\n",
      " [1.65815334e+03 1.26674791e-01]\n",
      " [1.65756328e+03 1.26652078e-01]]\n",
      "(32, 2500, 2)\n",
      "[0.0+/-0 0.0+/-0 0.0+/-0 0.0+/-0 0.0+/-0 0.0+/-0 0.0+/-0 0.0+/-0 0.0+/-0\n",
      " 0.0+/-0 0.0+/-0 0.0+/-0 0.0+/-0 0.0+/-0 0.0+/-0 0.0+/-0 0.0+/-0 0.0+/-0\n",
      " 0.0+/-0 0.09997999799959989+/-0.09997999799959989\n",
      " 0.1731011265127989+/-0.1731011265127989\n",
      " 0.26194472699407406+/-0.26194472699407406\n",
      " 0.45906670539258226+/-0.45906670539258226\n",
      " 0.7056883164683967+/-0.7056883164683967\n",
      " 0.8629879257556273+/-0.8629879257556273\n",
      " 1.051777619081144+/-1.051777619081144\n",
      " 1.2421449834862275+/-1.2421449834862275\n",
      " 1.3611362312421194+/-1.3611362312421194\n",
      " 1.3861030841896285+/-1.3861030841896285\n",
      " 1.4554458286037308+/-1.4554458286037308\n",
      " 1.4305465249337401+/-1.4305465249337401\n",
      " 1.518519015356739+/-1.518519015356739]\n"
     ]
    },
    {
     "data": {
      "text/plain": [
       "[<matplotlib.lines.Line2D at 0x7fb2403a4430>]"
      ]
     },
     "execution_count": 9,
     "metadata": {},
     "output_type": "execute_result"
    },
    {
     "data": {
      "image/png": "[encoded data removed]",
      "text/plain": [
       "<Figure size 432x288 with 1 Axes>"
      ]
     },
     "metadata": {
      "needs_background": "light"
     },
     "output_type": "display_data"
    }
   ],
   "source": [
    "print(len(temperatures))\n",
    "print(len(states))\n",
    "i = 25\n",
    "print(x[i])\n",
    "a = model.get_equilibrium_energies_and_magnetisations(states, 2500, temperatures)\n",
    "\n",
    "\n"
   ]
  },
  {
   "cell_type": "code",
   "execution_count": 31,
   "metadata": {},
   "outputs": [
    {
     "name": "stdout",
     "output_type": "stream",
     "text": [
      "[[1.65809955e+03 1.26766460e-01]\n",
      " [1.65792735e+03 1.26687788e-01]\n",
      " [1.65775229e+03 1.26692431e-01]\n",
      " ...\n",
      " [1.65820777e+03 1.26730539e-01]\n",
      " [1.65815334e+03 1.26674791e-01]\n",
      " [1.65756328e+03 1.26652078e-01]]\n",
      "(32, 2500, 2)\n"
     ]
    },
    {
     "data": {
      "text/plain": [
       "<ErrorbarContainer object of 3 artists>"
      ]
     },
     "execution_count": 31,
     "metadata": {},
     "output_type": "execute_result"
    },
    {
     "data": {
      "image/png": "[encoded data removed]",
      "text/plain": [
       "<Figure size 432x288 with 1 Axes>"
      ]
     },
     "metadata": {
      "needs_background": "light"
     },
     "output_type": "display_data"
    }
   ],
   "source": [
    "print(a.std(axis=0))\n",
    "print(a.shape)\n",
    "\n",
    "e_stds= a.std(axis=1)\n",
    "e_stds.shape\n",
    "\n",
    "stds_ = e_stds[:, 0].tolist()\n",
    "stds = unp.uarray(stds_, stds_)\n",
    "heat_caps = np.square(stds) / (constants.Boltzmann * np.square(temperatures))\n",
    "\n",
    "plt.errorbar(x, unp.nominal_values(heat_caps), unp.std_devs(heat_caps), fmt=\"o\")"
   ]
  },
  {
   "cell_type": "code",
   "execution_count": null,
   "metadata": {},
   "outputs": [
    {
     "data": {
      "text/plain": [
       "[<matplotlib.lines.Line2D at 0x7f22143cb0a0>]"
      ]
     },
     "execution_count": 9,
     "metadata": {},
     "output_type": "execute_result"
    },
    {
     "data": {
      "image/png": "[encoded data removed]",
      "text/plain": [
       "<Figure size 432x288 with 1 Axes>"
      ]
     },
     "metadata": {
      "needs_background": "light"
     },
     "output_type": "display_data"
    },
    {
     "data": {
      "image/png": "[encoded data removed]",
      "text/plain": [
       "<Figure size 432x288 with 1 Axes>"
      ]
     },
     "metadata": {
      "needs_background": "light"
     },
     "output_type": "display_data"
    },
    {
     "data": {
      "image/png": "[encoded data removed]",
      "text/plain": [
       "<Figure size 432x288 with 1 Axes>"
      ]
     },
     "metadata": {
      "needs_background": "light"
     },
     "output_type": "display_data"
    },
    {
     "data": {
      "image/png": "[encoded data removed]",
      "text/plain": [
       "<Figure size 432x288 with 1 Axes>"
      ]
     },
     "metadata": {
      "needs_background": "light"
     },
     "output_type": "display_data"
    }
   ],
   "source": [
    "energies = np.fromiter([model.get_energy(state) for state in states], float)\n",
    "mags = np.fromiter([model.get_magnetisation(state) for state in states], float)\n",
    "\n",
    "heat_caps = np.abs(np.gradient(energies, x))\n",
    "susceptibilities = np.abs(np.gradient(mags, x))\n",
    "\n",
    "plt.figure()\n",
    "plt.plot(x, energies, \"o\")\n",
    "\n",
    "plt.figure()\n",
    "plt.plot(x, mags, \"o\")\n",
    "\n",
    "plt.figure()\n",
    "plt.plot(x, heat_caps, \"o\")\n",
    "\n",
    "plt.figure()\n",
    "plt.plot(x, susceptibilities, \"o\")"
   ]
  },
  {
   "cell_type": "code",
   "execution_count": null,
   "metadata": {},
   "outputs": [
    {
     "ename": "ValueError",
     "evalue": "x and y can be no greater than 2D, but have shapes (32,) and (32, 64, 64)",
     "output_type": "error",
     "traceback": [
      "\u001b[0;31m---------------------------------------------------------------------------\u001b[0m",
      "\u001b[0;31mValueError\u001b[0m                                Traceback (most recent call last)",
      "\u001b[1;32m/home/jeppe/Code/IsingModel/workbench.ipynb Cell 10'\u001b[0m in \u001b[0;36m<cell line: 16>\u001b[0;34m()\u001b[0m\n\u001b[1;32m     <a href='vscode-notebook-cell://wsl%2Bubuntu-20.04/home/jeppe/Code/IsingModel/workbench.ipynb#ch0000009vscode-remote?line=13'>14</a>\u001b[0m plt\u001b[39m.\u001b[39mplot(x, mags)\n\u001b[1;32m     <a href='vscode-notebook-cell://wsl%2Bubuntu-20.04/home/jeppe/Code/IsingModel/workbench.ipynb#ch0000009vscode-remote?line=14'>15</a>\u001b[0m plt\u001b[39m.\u001b[39mfigure()\n\u001b[0;32m---> <a href='vscode-notebook-cell://wsl%2Bubuntu-20.04/home/jeppe/Code/IsingModel/workbench.ipynb#ch0000009vscode-remote?line=15'>16</a>\u001b[0m plt\u001b[39m.\u001b[39;49mplot(x, dmags)\n",
      "File \u001b[0;32m~/Code/IsingModel/.venv/lib/python3.10/site-packages/matplotlib/pyplot.py:2757\u001b[0m, in \u001b[0;36mplot\u001b[0;34m(scalex, scaley, data, *args, **kwargs)\u001b[0m\n\u001b[1;32m   <a href='file:///home/jeppe/Code/IsingModel/.venv/lib/python3.10/site-packages/matplotlib/pyplot.py?line=2754'>2755</a>\u001b[0m \u001b[39m@_copy_docstring_and_deprecators\u001b[39m(Axes\u001b[39m.\u001b[39mplot)\n\u001b[1;32m   <a href='file:///home/jeppe/Code/IsingModel/.venv/lib/python3.10/site-packages/matplotlib/pyplot.py?line=2755'>2756</a>\u001b[0m \u001b[39mdef\u001b[39;00m \u001b[39mplot\u001b[39m(\u001b[39m*\u001b[39margs, scalex\u001b[39m=\u001b[39m\u001b[39mTrue\u001b[39;00m, scaley\u001b[39m=\u001b[39m\u001b[39mTrue\u001b[39;00m, data\u001b[39m=\u001b[39m\u001b[39mNone\u001b[39;00m, \u001b[39m*\u001b[39m\u001b[39m*\u001b[39mkwargs):\n\u001b[0;32m-> <a href='file:///home/jeppe/Code/IsingModel/.venv/lib/python3.10/site-packages/matplotlib/pyplot.py?line=2756'>2757</a>\u001b[0m     \u001b[39mreturn\u001b[39;00m gca()\u001b[39m.\u001b[39;49mplot(\n\u001b[1;32m   <a href='file:///home/jeppe/Code/IsingModel/.venv/lib/python3.10/site-packages/matplotlib/pyplot.py?line=2757'>2758</a>\u001b[0m         \u001b[39m*\u001b[39;49margs, scalex\u001b[39m=\u001b[39;49mscalex, scaley\u001b[39m=\u001b[39;49mscaley,\n\u001b[1;32m   <a href='file:///home/jeppe/Code/IsingModel/.venv/lib/python3.10/site-packages/matplotlib/pyplot.py?line=2758'>2759</a>\u001b[0m         \u001b[39m*\u001b[39;49m\u001b[39m*\u001b[39;49m({\u001b[39m\"\u001b[39;49m\u001b[39mdata\u001b[39;49m\u001b[39m\"\u001b[39;49m: data} \u001b[39mif\u001b[39;49;00m data \u001b[39mis\u001b[39;49;00m \u001b[39mnot\u001b[39;49;00m \u001b[39mNone\u001b[39;49;00m \u001b[39melse\u001b[39;49;00m {}), \u001b[39m*\u001b[39;49m\u001b[39m*\u001b[39;49mkwargs)\n",
      "File \u001b[0;32m~/Code/IsingModel/.venv/lib/python3.10/site-packages/matplotlib/axes/_axes.py:1632\u001b[0m, in \u001b[0;36mAxes.plot\u001b[0;34m(self, scalex, scaley, data, *args, **kwargs)\u001b[0m\n\u001b[1;32m   <a href='file:///home/jeppe/Code/IsingModel/.venv/lib/python3.10/site-packages/matplotlib/axes/_axes.py?line=1389'>1390</a>\u001b[0m \u001b[39m\"\"\"\u001b[39;00m\n\u001b[1;32m   <a href='file:///home/jeppe/Code/IsingModel/.venv/lib/python3.10/site-packages/matplotlib/axes/_axes.py?line=1390'>1391</a>\u001b[0m \u001b[39mPlot y versus x as lines and/or markers.\u001b[39;00m\n\u001b[1;32m   <a href='file:///home/jeppe/Code/IsingModel/.venv/lib/python3.10/site-packages/matplotlib/axes/_axes.py?line=1391'>1392</a>\u001b[0m \n\u001b[0;32m   (...)\u001b[0m\n\u001b[1;32m   <a href='file:///home/jeppe/Code/IsingModel/.venv/lib/python3.10/site-packages/matplotlib/axes/_axes.py?line=1628'>1629</a>\u001b[0m \u001b[39m(``'green'``) or hex strings (``'#008000'``).\u001b[39;00m\n\u001b[1;32m   <a href='file:///home/jeppe/Code/IsingModel/.venv/lib/python3.10/site-packages/matplotlib/axes/_axes.py?line=1629'>1630</a>\u001b[0m \u001b[39m\"\"\"\u001b[39;00m\n\u001b[1;32m   <a href='file:///home/jeppe/Code/IsingModel/.venv/lib/python3.10/site-packages/matplotlib/axes/_axes.py?line=1630'>1631</a>\u001b[0m kwargs \u001b[39m=\u001b[39m cbook\u001b[39m.\u001b[39mnormalize_kwargs(kwargs, mlines\u001b[39m.\u001b[39mLine2D)\n\u001b[0;32m-> <a href='file:///home/jeppe/Code/IsingModel/.venv/lib/python3.10/site-packages/matplotlib/axes/_axes.py?line=1631'>1632</a>\u001b[0m lines \u001b[39m=\u001b[39m [\u001b[39m*\u001b[39m\u001b[39mself\u001b[39m\u001b[39m.\u001b[39m_get_lines(\u001b[39m*\u001b[39margs, data\u001b[39m=\u001b[39mdata, \u001b[39m*\u001b[39m\u001b[39m*\u001b[39mkwargs)]\n\u001b[1;32m   <a href='file:///home/jeppe/Code/IsingModel/.venv/lib/python3.10/site-packages/matplotlib/axes/_axes.py?line=1632'>1633</a>\u001b[0m \u001b[39mfor\u001b[39;00m line \u001b[39min\u001b[39;00m lines:\n\u001b[1;32m   <a href='file:///home/jeppe/Code/IsingModel/.venv/lib/python3.10/site-packages/matplotlib/axes/_axes.py?line=1633'>1634</a>\u001b[0m     \u001b[39mself\u001b[39m\u001b[39m.\u001b[39madd_line(line)\n",
      "File \u001b[0;32m~/Code/IsingModel/.venv/lib/python3.10/site-packages/matplotlib/axes/_base.py:312\u001b[0m, in \u001b[0;36m_process_plot_var_args.__call__\u001b[0;34m(self, data, *args, **kwargs)\u001b[0m\n\u001b[1;32m    <a href='file:///home/jeppe/Code/IsingModel/.venv/lib/python3.10/site-packages/matplotlib/axes/_base.py?line=309'>310</a>\u001b[0m     this \u001b[39m+\u001b[39m\u001b[39m=\u001b[39m args[\u001b[39m0\u001b[39m],\n\u001b[1;32m    <a href='file:///home/jeppe/Code/IsingModel/.venv/lib/python3.10/site-packages/matplotlib/axes/_base.py?line=310'>311</a>\u001b[0m     args \u001b[39m=\u001b[39m args[\u001b[39m1\u001b[39m:]\n\u001b[0;32m--> <a href='file:///home/jeppe/Code/IsingModel/.venv/lib/python3.10/site-packages/matplotlib/axes/_base.py?line=311'>312</a>\u001b[0m \u001b[39myield from\u001b[39;00m \u001b[39mself\u001b[39;49m\u001b[39m.\u001b[39;49m_plot_args(this, kwargs)\n",
      "File \u001b[0;32m~/Code/IsingModel/.venv/lib/python3.10/site-packages/matplotlib/axes/_base.py:501\u001b[0m, in \u001b[0;36m_process_plot_var_args._plot_args\u001b[0;34m(self, tup, kwargs, return_kwargs)\u001b[0m\n\u001b[1;32m    <a href='file:///home/jeppe/Code/IsingModel/.venv/lib/python3.10/site-packages/matplotlib/axes/_base.py?line=497'>498</a>\u001b[0m     \u001b[39mraise\u001b[39;00m \u001b[39mValueError\u001b[39;00m(\u001b[39mf\u001b[39m\u001b[39m\"\u001b[39m\u001b[39mx and y must have same first dimension, but \u001b[39m\u001b[39m\"\u001b[39m\n\u001b[1;32m    <a href='file:///home/jeppe/Code/IsingModel/.venv/lib/python3.10/site-packages/matplotlib/axes/_base.py?line=498'>499</a>\u001b[0m                      \u001b[39mf\u001b[39m\u001b[39m\"\u001b[39m\u001b[39mhave shapes \u001b[39m\u001b[39m{\u001b[39;00mx\u001b[39m.\u001b[39mshape\u001b[39m}\u001b[39;00m\u001b[39m and \u001b[39m\u001b[39m{\u001b[39;00my\u001b[39m.\u001b[39mshape\u001b[39m}\u001b[39;00m\u001b[39m\"\u001b[39m)\n\u001b[1;32m    <a href='file:///home/jeppe/Code/IsingModel/.venv/lib/python3.10/site-packages/matplotlib/axes/_base.py?line=499'>500</a>\u001b[0m \u001b[39mif\u001b[39;00m x\u001b[39m.\u001b[39mndim \u001b[39m>\u001b[39m \u001b[39m2\u001b[39m \u001b[39mor\u001b[39;00m y\u001b[39m.\u001b[39mndim \u001b[39m>\u001b[39m \u001b[39m2\u001b[39m:\n\u001b[0;32m--> <a href='file:///home/jeppe/Code/IsingModel/.venv/lib/python3.10/site-packages/matplotlib/axes/_base.py?line=500'>501</a>\u001b[0m     \u001b[39mraise\u001b[39;00m \u001b[39mValueError\u001b[39;00m(\u001b[39mf\u001b[39m\u001b[39m\"\u001b[39m\u001b[39mx and y can be no greater than 2D, but have \u001b[39m\u001b[39m\"\u001b[39m\n\u001b[1;32m    <a href='file:///home/jeppe/Code/IsingModel/.venv/lib/python3.10/site-packages/matplotlib/axes/_base.py?line=501'>502</a>\u001b[0m                      \u001b[39mf\u001b[39m\u001b[39m\"\u001b[39m\u001b[39mshapes \u001b[39m\u001b[39m{\u001b[39;00mx\u001b[39m.\u001b[39mshape\u001b[39m}\u001b[39;00m\u001b[39m and \u001b[39m\u001b[39m{\u001b[39;00my\u001b[39m.\u001b[39mshape\u001b[39m}\u001b[39;00m\u001b[39m\"\u001b[39m)\n\u001b[1;32m    <a href='file:///home/jeppe/Code/IsingModel/.venv/lib/python3.10/site-packages/matplotlib/axes/_base.py?line=502'>503</a>\u001b[0m \u001b[39mif\u001b[39;00m x\u001b[39m.\u001b[39mndim \u001b[39m==\u001b[39m \u001b[39m1\u001b[39m:\n\u001b[1;32m    <a href='file:///home/jeppe/Code/IsingModel/.venv/lib/python3.10/site-packages/matplotlib/axes/_base.py?line=503'>504</a>\u001b[0m     x \u001b[39m=\u001b[39m x[:, np\u001b[39m.\u001b[39mnewaxis]\n",
      "\u001b[0;31mValueError\u001b[0m: x and y can be no greater than 2D, but have shapes (32,) and (32, 64, 64)"
     ]
    },
    {
     "data": {
      "image/png": "[encoded data removed]",
      "text/plain": [
       "<Figure size 432x288 with 1 Axes>"
      ]
     },
     "metadata": {
      "needs_background": "light"
     },
     "output_type": "display_data"
    },
    {
     "data": {
      "image/png": "[encoded data removed]",
      "text/plain": [
       "<Figure size 432x288 with 1 Axes>"
      ]
     },
     "metadata": {
      "needs_background": "light"
     },
     "output_type": "display_data"
    }
   ],
   "source": [
    "from jax import grad, vmap\n",
    "\n",
    "def get_mag(state):\n",
    "    return state.sum() / state.size\n",
    "\n",
    "dget_mag = vmap(grad(get_mag))\n",
    "\n",
    "mags = np.array([get_mag(s.arr) for s in states])\n",
    "dmags = dget_mag(np.array([s.arr for s in states]))\n",
    "# dmags = np.gradient(mags, x)\n",
    "\n",
    "\n",
    "plt.figure()\n",
    "plt.plot(x, mags)\n",
    "plt.figure()\n",
    "plt.plot(x, dmags)"
   ]
  }
 ],
 "metadata": {
  "interpreter": {
   "hash": "93eb525e7aacff63e8c0e5f074a10ab3e6847dc75d2c49f0ed655badd2f2af2a"
  },
  "kernelspec": {
   "display_name": "Python 3.10.2 ('.venv': poetry)",
   "language": "python",
   "name": "python3"
  },
  "language_info": {
   "codemirror_mode": {
    "name": "ipython",
    "version": 3
   },
   "file_extension": ".py",
   "mimetype": "text/x-python",
   "name": "python",
   "nbconvert_exporter": "python",
   "pygments_lexer": "ipython3",
   "version": "3.10.2"
  },
  "orig_nbformat": 4
 },
 "nbformat": 4,
 "nbformat_minor": 2
}
