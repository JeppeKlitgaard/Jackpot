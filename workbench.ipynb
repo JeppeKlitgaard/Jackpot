{
 "cells": [
  {
   "cell_type": "code",
   "execution_count": 1,
   "metadata": {},
   "outputs": [],
   "source": [
    "from ising.model import IsingModelND\n",
    "import numpy as np\n",
    "from ipywidgets import interact\n",
    "from scipy import constants\n",
    "\n",
    "%load_ext autoreload\n",
    "%autoreload 2"
   ]
  },
  {
   "cell_type": "code",
   "execution_count": 25,
   "metadata": {},
   "outputs": [],
   "source": [
    "beta = 8\n",
    "temperature = 1 / (constants.Boltzmann * beta)\n",
    "model = IsingModelND(3, temperature=temperature, size=8, spin=1)\n",
    "model.plot_state()\n",
    "\n",
    "states = []\n",
    "for n in range(int(1e5)):\n",
    "    model._run_mcmc_step()\n",
    "    states.append(model.state.copy())\n",
    "\n",
    "@interact(value=0, min=0, max=len(states))\n",
    "def update(i=(0, len(states) - 1)):\n",
    "    model.plot_state(states[i])"
   ]
  },
  {
   "cell_type": "code",
   "execution_count": 24,
   "metadata": {},
   "outputs": [
    {
     "data": {
      "text/plain": [
       "array([ 0,  1,  2, ..., 13, 14, 15])"
      ]
     },
     "execution_count": 24,
     "metadata": {},
     "output_type": "execute_result"
    }
   ],
   "source": [
    "idxs = np.ndindex(*model.state.shape)\n",
    "for idx in idxs:\n",
    "    # print(idx)\n",
    "    pass\n",
    "\n",
    "model.state.ravel()\n",
    "x, y, z = np.indices(model.state.shape)\n",
    "\n",
    "z.ravel()"
   ]
  }
 ],
 "metadata": {
  "interpreter": {
   "hash": "93eb525e7aacff63e8c0e5f074a10ab3e6847dc75d2c49f0ed655badd2f2af2a"
  },
  "kernelspec": {
   "display_name": "Python 3.10.2 ('.venv': poetry)",
   "language": "python",
   "name": "python3"
  },
  "language_info": {
   "codemirror_mode": {
    "name": "ipython",
    "version": 3
   },
   "file_extension": ".py",
   "mimetype": "text/x-python",
   "name": "python",
   "nbconvert_exporter": "python",
   "pygments_lexer": "ipython3",
   "version": "3.10.2"
  },
  "orig_nbformat": 4
 },
 "nbformat": 4,
 "nbformat_minor": 2
}
