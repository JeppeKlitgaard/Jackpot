{
 "cells": [
  {
   "cell_type": "code",
   "execution_count": 1,
   "id": "eba3f57b",
   "metadata": {
    "execution": {
     "iopub.execute_input": "2023-04-26T19:31:05.612507Z",
     "iopub.status.busy": "2023-04-26T19:31:05.612279Z",
     "iopub.status.idle": "2023-04-26T19:31:07.902548Z",
     "shell.execute_reply": "2023-04-26T19:31:07.901721Z"
    },
    "papermill": {
     "duration": 2.299664,
     "end_time": "2023-04-26T19:31:07.904694",
     "exception": false,
     "start_time": "2023-04-26T19:31:05.605030",
     "status": "completed"
    },
    "tags": []
   },
   "outputs": [],
   "source": [
    "import json\n",
    "import os\n",
    "import warnings\n",
    "from pathlib import Path\n",
    "from typing import Any\n",
    "\n",
    "import equinox as eqx\n",
    "import jax.numpy as jnp\n",
    "import jax.profiler\n",
    "import matplotlib\n",
    "import matplotlib.pyplot as plt\n",
    "import numpy as np\n",
    "import pandas as pd\n",
    "import seaborn as sns\n",
    "from einops import rearrange, repeat\n",
    "from ipywidgets import interact\n",
    "from jax import config, device_count, random\n",
    "from jax.scipy.optimize import minimize\n",
    "from numpyencoder import NumpyEncoder\n",
    "from scipy import constants\n",
    "from stamox.sample import bootstrap\n",
    "\n",
    "from jackpot.algorithms import AlgorithmChoice\n",
    "from jackpot.algorithms.base import Algorithm\n",
    "from jackpot.config import Config, JaxPlatform\n",
    "from jackpot.fitting import SaturatingExponential\n",
    "from jackpot.models.base import Model\n",
    "from jackpot.models.ising import IsingModel\n",
    "from jackpot.modules import AutocorrelationData\n",
    "from jackpot.primitives.autocorrelate import acf\n",
    "from jackpot.primitives.utils import beta_to_temp\n",
    "from jackpot.profile import Stopwatch\n",
    "from jackpot.state import Measurement, State\n",
    "from jackpot.typing import RNGKey\n",
    "from jackpot.utils.map import filter_map\n",
    "from jackpot.utils.pbar import make_scan\n",
    "from jackpot.utils.random import EasyKey\n",
    "\n",
    "%load_ext autoreload\n",
    "%autoreload 2"
   ]
  },
  {
   "cell_type": "code",
   "execution_count": 2,
   "id": "0d590f73",
   "metadata": {
    "execution": {
     "iopub.execute_input": "2023-04-26T19:31:07.916910Z",
     "iopub.status.busy": "2023-04-26T19:31:07.916514Z",
     "iopub.status.idle": "2023-04-26T19:31:07.940671Z",
     "shell.execute_reply": "2023-04-26T19:31:07.939882Z"
    },
    "papermill": {
     "duration": 0.033794,
     "end_time": "2023-04-26T19:31:07.944081",
     "exception": false,
     "start_time": "2023-04-26T19:31:07.910287",
     "status": "completed"
    },
    "tags": []
   },
   "outputs": [],
   "source": [
    "PAPERMILL: bool = False\n",
    "PAPERMILL_INPUT_PATH: str = \"\"\n",
    "PAPERMILL_OUTPUT_PATH: str = \"\""
   ]
  },
  {
   "cell_type": "code",
   "execution_count": 3,
   "id": "446791e8",
   "metadata": {
    "execution": {
     "iopub.execute_input": "2023-04-26T19:31:07.956402Z",
     "iopub.status.busy": "2023-04-26T19:31:07.956176Z",
     "iopub.status.idle": "2023-04-26T19:31:07.980790Z",
     "shell.execute_reply": "2023-04-26T19:31:07.980015Z"
    },
    "notebookRunGroups": {
     "groupValue": "1"
    },
    "papermill": {
     "duration": 0.032536,
     "end_time": "2023-04-26T19:31:07.982439",
     "exception": false,
     "start_time": "2023-04-26T19:31:07.949903",
     "status": "completed"
    },
    "tags": [
     "parameters"
    ]
   },
   "outputs": [],
   "source": [
    "# base\n",
    "JAX_PLATFORM: JaxPlatform = JaxPlatform.CPU\n",
    "DO_PROFILING: bool = False\n",
    "ENABLE_64_BIT: bool = False\n",
    "DO_AUTOCORRELATION: bool = False\n",
    "DO_MEASURE: bool = True\n",
    "PLOT_STATES: bool = False\n",
    "CHECK_THERMALISED: bool = True\n",
    "\n",
    "# experiment\n",
    "RNG_SEED: int = 0\n",
    "SPIN: float = 0.5\n",
    "DIMENSIONS: int = 2\n",
    "SIZE: int = 32\n",
    "TOTAL_SAMPLES: int = 384\n",
    "N_SAMPLES_VECTORISE: int = 2\n",
    "LOOP_N_TEMPS_Y: bool = False\n",
    "\n",
    "\n",
    "# environment\n",
    "INTERACTION_BILINEAR: float = 1.0\n",
    "INTERACTION_BIQUADRATIC: float = 0.0\n",
    "INTERACTION_ANISOTROPY: float = 0.0\n",
    "INTERACTION_BICUBIC: float = 0.0\n",
    "INTERACTION_EXTERNAL_FIELD: float = 0.0\n",
    "NUCLEAR_MAGNETIC_MOMENT: float = 1.0\n",
    "\n",
    "# environment config\n",
    "ALGORITHM: AlgorithmChoice = AlgorithmChoice.METROPOLIS_HASTINGS\n",
    "PROBABILISTIC_CLUSTER_ACCEPT: bool = False\n",
    "\n",
    "# temperatures\n",
    "TEMP_MIN: float = 0.80\n",
    "TEMP_MAX: float = 1.90\n",
    "N_TEMPS: int = 96\n",
    "\n",
    "# thermalisation\n",
    "THERMALISE_STEPS: int = 50\n",
    "THERMALISE_SWEEPS_PER_STEP: int = 50\n",
    "\n",
    "# autocorrelation\n",
    "AUTOCORRELATION_STEPS: int = 1000\n",
    "AUTOCORRELATION_SWEEPS_PER_STEP: int = 2\n",
    "\n",
    "# measure\n",
    "MEASURE_EQUILIBRIUM_STEPS: int = 100\n",
    "MEASURE_EQUILIBRIUM_NUM: int = 10\n",
    "MEASURE_EQUILIBRIUM_SWEEPS_PER_STEP: int = 5"
   ]
  },
  {
   "cell_type": "code",
   "execution_count": 4,
   "id": "8cbfa2c8",
   "metadata": {
    "execution": {
     "iopub.execute_input": "2023-04-26T19:31:07.993830Z",
     "iopub.status.busy": "2023-04-26T19:31:07.993372Z",
     "iopub.status.idle": "2023-04-26T19:31:08.016517Z",
     "shell.execute_reply": "2023-04-26T19:31:08.015753Z"
    },
    "papermill": {
     "duration": 0.030764,
     "end_time": "2023-04-26T19:31:08.018181",
     "exception": false,
     "start_time": "2023-04-26T19:31:07.987417",
     "status": "completed"
    },
    "tags": [
     "injected-parameters"
    ]
   },
   "outputs": [],
   "source": [
    "# Parameters\n",
    "PAPERMILL_INPUT_PATH = \"workbench.ipynb\"\n",
    "PAPERMILL_OUTPUT_PATH = \"experiments/measure/N224_wolff/experiment.ipynb\"\n",
    "PAPERMILL = True\n",
    "RNG_SEED = 1\n",
    "JAX_PLATFORM = \"tpu\"\n",
    "ALGORITHM = \"wolff\"\n",
    "DIMENSIONS = 2\n",
    "SPIN = 0.5\n",
    "TOTAL_SAMPLES = 256\n",
    "N_TEMPS = 64\n",
    "N_SAMPLES_VECTORISE = 4\n",
    "THERMALISE_STEPS = 100\n",
    "THERMALISE_SWEEPS_PER_STEP = 150\n",
    "TEMP_MIN = 0.9\n",
    "TEMP_MAX = 1.4\n",
    "CHECK_THERMALISED = True\n",
    "DO_AUTOCORRELATION = False\n",
    "DO_MEASURE = True\n",
    "MEASURE_EQUILIBRIUM_NUM = 25\n",
    "MEASURE_EQUILIBRIUM_STEPS = 100\n",
    "MEASURE_EQUILIBRIUM_SWEEPS_PER_STEP = 50\n",
    "PLOT_STATES = False\n",
    "SIZE = 224"
   ]
  },
  {
   "cell_type": "code",
   "execution_count": 5,
   "id": "28f0f55d",
   "metadata": {
    "execution": {
     "iopub.execute_input": "2023-04-26T19:31:08.029823Z",
     "iopub.status.busy": "2023-04-26T19:31:08.029361Z",
     "iopub.status.idle": "2023-04-26T19:31:08.051334Z",
     "shell.execute_reply": "2023-04-26T19:31:08.050584Z"
    },
    "papermill": {
     "duration": 0.029509,
     "end_time": "2023-04-26T19:31:08.052877",
     "exception": false,
     "start_time": "2023-04-26T19:31:08.023368",
     "status": "completed"
    },
    "tags": []
   },
   "outputs": [],
   "source": [
    "if not PAPERMILL:\n",
    "    RNG_SEED = 1\n",
    "    JAX_PLATFORM = \"tpu\"\n",
    "    ALGORITHM = \"wolff\"\n",
    "    DIMENSIONS = 2\n",
    "    SPIN = 0.5\n",
    "    TOTAL_SAMPLES = 128\n",
    "    N_TEMPS = 64\n",
    "    N_SAMPLES_VECTORISE = 2\n",
    "    THERMALISE_STEPS = 100\n",
    "    THERMALISE_SWEEPS_PER_STEP = 100\n",
    "    TEMP_MIN = 1.00\n",
    "    TEMP_MAX = 1.25\n",
    "    DO_AUTOCORRELATION = False\n",
    "    DO_MEASURE = True\n",
    "    SIZE = 128"
   ]
  },
  {
   "cell_type": "code",
   "execution_count": 6,
   "id": "846fed85",
   "metadata": {
    "execution": {
     "iopub.execute_input": "2023-04-26T19:31:08.064557Z",
     "iopub.status.busy": "2023-04-26T19:31:08.063992Z",
     "iopub.status.idle": "2023-04-26T19:31:08.095269Z",
     "shell.execute_reply": "2023-04-26T19:31:08.094637Z"
    },
    "notebookRunGroups": {
     "groupValue": "1"
    },
    "papermill": {
     "duration": 0.039683,
     "end_time": "2023-04-26T19:31:08.097515",
     "exception": false,
     "start_time": "2023-04-26T19:31:08.057832",
     "status": "completed"
    },
    "tags": []
   },
   "outputs": [
    {
     "name": "stderr",
     "output_type": "stream",
     "text": [
      "Initialized persistent compilation cache at /tmp/xla_comp_cache\n"
     ]
    },
    {
     "name": "stdout",
     "output_type": "stream",
     "text": [
      "SAVE_PATH=PosixPath('/home/jeppe/Jackpot/experiments/measure/N224_wolff')\n"
     ]
    }
   ],
   "source": [
    "# Post init\n",
    "if PAPERMILL:\n",
    "    from tqdm.std import tqdm\n",
    "else:\n",
    "    from tqdm.notebook import tqdm\n",
    "\n",
    "if PAPERMILL_OUTPUT_PATH:\n",
    "    SAVE_PATH = Path(PAPERMILL_OUTPUT_PATH).parent.resolve()\n",
    "else:\n",
    "    SAVE_PATH = (Path() / \"experiments\" / \"last\").resolve()\n",
    "to_save: dict[str, Any] = {}\n",
    "\n",
    "print(f\"{SAVE_PATH=}\")\n",
    "\n",
    "_CONFIG_VARS = [\n",
    "    \"JAX_PLATFORM\",\n",
    "    \"DO_PROFILING\",\n",
    "    \"ENABLE_64_BIT\",\n",
    "    \"DO_AUTOCORRELATION\",\n",
    "    \"DO_MEASURE\",\n",
    "    \"PLOT_STATES\",\n",
    "    \"CHECK_THERMALISED\",\n",
    "    \"RNG_SEED\",\n",
    "    \"SPIN\",\n",
    "    \"DIMENSIONS\",\n",
    "    \"SIZE\",\n",
    "    \"TOTAL_SAMPLES\",\n",
    "    \"N_SAMPLES_VECTORISE\",\n",
    "    \"LOOP_N_TEMPS_Y\",\n",
    "    \"THERMALISE_STEPS\",\n",
    "    \"THERMALISE_SWEEPS_PER_STEP\",\n",
    "    \"INTERACTION_BILINEAR\",\n",
    "    \"INTERACTION_BIQUADRATIC\",\n",
    "    \"INTERACTION_ANISOTROPY\",\n",
    "    \"INTERACTION_BICUBIC\",\n",
    "    \"INTERACTION_EXTERNAL_FIELD\",\n",
    "    \"NUCLEAR_MAGNETIC_MOMENT\",\n",
    "    \"ALGORITHM\",\n",
    "    \"PROBABILISTIC_CLUSTER_ACCEPT\",\n",
    "    \"TEMP_MIN\",\n",
    "    \"TEMP_MAX\",\n",
    "    \"N_TEMPS\",\n",
    "    \"AUTOCORRELATION_STEPS\",\n",
    "    \"AUTOCORRELATION_SWEEPS_PER_STEP\",\n",
    "    \"MEASURE_EQUILIBRIUM_STEPS\",\n",
    "    \"MEASURE_EQUILIBRIUM_NUM\",\n",
    "    \"MEASURE_EQUILIBRIUM_SWEEPS_PER_STEP\",\n",
    "]\n",
    "\n",
    "_CONFIG_DICT = {}\n",
    "\n",
    "for var in _CONFIG_VARS:\n",
    "    _CONFIG_DICT[var.lower()] = globals()[var]\n",
    "    del globals()[var]\n",
    "\n",
    "c = Config(**_CONFIG_DICT)\n",
    "\n",
    "with open(SAVE_PATH / \"config.json\", \"w\") as f:\n",
    "    f.write(c.json(indent=4))\n",
    "\n",
    "\n",
    "# ---\n",
    "match c.jax_platform:\n",
    "    case JaxPlatform.CPU:\n",
    "        config.update(\"jax_platform_name\", \"cpu\")\n",
    "        config.update(\"jax_platforms\", \"cpu\")\n",
    "\n",
    "        # CPU cores as separate devices\n",
    "        os.environ[\n",
    "            \"XLA_FLAGS\"\n",
    "        ] = f\"--xla_force_host_platform_device_count={os.cpu_count()}\"\n",
    "\n",
    "    case JaxPlatform.TPU:\n",
    "        config.update(\"jax_platform_name\", \"tpu\")\n",
    "        config.update(\"jax_platforms\", \"tpu\")\n",
    "\n",
    "        from jax.experimental.compilation_cache import compilation_cache\n",
    "\n",
    "        compilation_cache.initialize_cache(\"/tmp/xla_comp_cache\")\n",
    "\n",
    "        # SEE: https://github.com/google/jax/discussions/12001#discussioncomment-3467948\n",
    "        os.environ[\"LIBTPU_INIT_ARGS\"] = \"--xla_tpu_spmd_rng_bit_generator_unsafe=1\"\n",
    "        config.update(\"jax_default_prng_impl\", \"unsafe_rbg\")\n",
    "\n",
    "    case JaxPlatform.GPU:\n",
    "        config.update(\"jax_platform_name\", \"gpu\")\n",
    "        config.update(\"jax_platforms\", \"gpu\")\n",
    "\n",
    "    case _:\n",
    "        raise ValueError(\"Invalid JaxPlatform\")\n",
    "\n",
    "# config.update(\"jax_check_tracer_leaks\", True)\n",
    "if c.enable_64_bit:\n",
    "    config.update(\"jax_enable_x64\", True)\n",
    "\n",
    "matplotlib.rcParams[\"figure.figsize\"] = (10, 10)\n",
    "\n",
    "if \"_PROFILER_IS_RUNNING\" not in globals() and c.do_profiling:\n",
    "    _PROFILER_IS_RUNNING = True\n",
    "    jax.profiler.start_server(9999)"
   ]
  },
  {
   "cell_type": "code",
   "execution_count": 7,
   "id": "0d9cf8b6",
   "metadata": {
    "execution": {
     "iopub.execute_input": "2023-04-26T19:31:08.109862Z",
     "iopub.status.busy": "2023-04-26T19:31:08.109612Z",
     "iopub.status.idle": "2023-04-26T19:31:14.097155Z",
     "shell.execute_reply": "2023-04-26T19:31:14.096083Z"
    },
    "papermill": {
     "duration": 5.995926,
     "end_time": "2023-04-26T19:31:14.099046",
     "exception": false,
     "start_time": "2023-04-26T19:31:08.103120",
     "status": "completed"
    },
    "tags": []
   },
   "outputs": [
    {
     "name": "stdout",
     "output_type": "stream",
     "text": [
      "Temperatures: 64\n",
      "c.n_temps=64\n",
      "N_TEMPS_X=8\n",
      "N_TEMPS_Y=8\n",
      "N_SAMPLES_PER_TEMP=4\n",
      "--c.n_samples_vectorise=4\n",
      "--N_SAMPLES_LOOP=1\n",
      "Vectorised count: 256\n",
      "Total sweeps: 3_840_000\n"
     ]
    }
   ],
   "source": [
    "# Init\n",
    "\n",
    "DEVICE_COUNT = device_count()\n",
    "to_save[\"DEVICE_COUNT\"] = DEVICE_COUNT\n",
    "rng_seed = c.rng_seed if c.rng_seed is not None else np.random.randint(0, 10**10)\n",
    "to_save[\"rng_seed\"] = rng_seed\n",
    "k = EasyKey(rng_seed)\n",
    "rng_key = k.new\n",
    "\n",
    "MODEL_BASE_PARAMS = {\n",
    "    \"interaction_bilinear\": c.interaction_bilinear,\n",
    "    \"interaction_biquadratic\": c.interaction_biquadratic,\n",
    "    \"interaction_anisotropy\": c.interaction_anisotropy,\n",
    "    \"interaction_bicubic\": c.interaction_bicubic,\n",
    "    \"interaction_external_field\": c.interaction_external_field,\n",
    "    \"nuclear_magnetic_moment\": c.nuclear_magnetic_moment,\n",
    "    # \"probabilistic_cluster_accept\": c.probabilistic_cluster_accept,\n",
    "}\n",
    "\n",
    "if c.n_temps < DEVICE_COUNT:\n",
    "    warnings.warn(\n",
    "        f\"Should have at least {DEVICE_COUNT} temperatures for maximum throughput\"\n",
    "    )\n",
    "N_TEMPS_X = DEVICE_COUNT if DEVICE_COUNT < c.n_temps else c.n_temps\n",
    "N_TEMPS_Y = c.n_temps // N_TEMPS_X\n",
    "to_save[\"N_TEMPS_X\"] = N_TEMPS_X\n",
    "to_save[\"N_TEMPS_Y\"] = N_TEMPS_Y\n",
    "\n",
    "if not N_TEMPS_X * N_TEMPS_Y == c.n_temps:\n",
    "    raise ValueError(f\"Temperatures should be a multiple of {DEVICE_COUNT}\")\n",
    "\n",
    "N_SAMPLES_PER_TEMP = c.total_samples // (N_TEMPS_X * N_TEMPS_Y)\n",
    "N_SAMPLES_LOOP = N_SAMPLES_PER_TEMP // c.n_samples_vectorise\n",
    "to_save[\"N_SAMPLES_PER_TEMP\"] = N_SAMPLES_PER_TEMP\n",
    "to_save[\"N_SAMPLES_LOOP\"] = N_SAMPLES_LOOP\n",
    "\n",
    "VECTORISATION_SHAPE = (N_SAMPLES_LOOP, N_TEMPS_X, N_TEMPS_Y, c.n_samples_vectorise)\n",
    "\n",
    "print(f\"Temperatures: {c.n_temps:_}\")\n",
    "print(f\"{c.n_temps=}\")\n",
    "print(f\"{N_TEMPS_X=}\")\n",
    "print(f\"{N_TEMPS_Y=}\")\n",
    "print(f\"{N_SAMPLES_PER_TEMP=}\")\n",
    "print(f\"--{c.n_samples_vectorise=}\")\n",
    "print(f\"--{N_SAMPLES_LOOP=}\")\n",
    "\n",
    "if not N_SAMPLES_LOOP * c.n_samples_vectorise == N_SAMPLES_PER_TEMP:\n",
    "    raise ValueError(\n",
    "        \"Failed to factorise in a good way. \" f\"Factors: {VECTORISATION_SHAPE}\"\n",
    "    )\n",
    "to_save[\"VECTORISATION_SHAPE\"] = VECTORISATION_SHAPE\n",
    "\n",
    "VECTORISED_COUNT = np.prod(VECTORISATION_SHAPE)\n",
    "to_save[\"VECTORISED_COUNT\"] = VECTORISED_COUNT\n",
    "print(f\"Vectorised count: {VECTORISED_COUNT:_}\")\n",
    "\n",
    "if not VECTORISED_COUNT == c.total_samples:\n",
    "    raise ValueError(\n",
    "        f\"Got bad vectorised count: {VECTORISED_COUNT=} != {c.total_samples=}\"\n",
    "    )\n",
    "\n",
    "TOTAL_SWEEPS = VECTORISED_COUNT * c.thermalise_sweeps_per_step * c.thermalise_steps\n",
    "to_save[\"TOTAL_SWEEPS\"] = TOTAL_SWEEPS\n",
    "print(f\"Total sweeps: {TOTAL_SWEEPS:_}\")\n",
    "\n",
    "temperatures = np.linspace(c.temp_min, c.temp_max, c.n_temps)\n",
    "betas = 1.0 / temperatures\n",
    "\n",
    "match c.algorithm:\n",
    "    case AlgorithmChoice.WOLFF:\n",
    "        algorithm = c.algorithm.resolve()(\n",
    "            probabilistic_cluster_accept=c.probabilistic_cluster_accept\n",
    "        )\n",
    "    case _:\n",
    "        algorithm = c.algorithm.resolve()()\n",
    "\n",
    "\n",
    "def transforms(in_axes, out_axes=0):\n",
    "    def inner(fun):\n",
    "        # SAMPLES_VECTORISE\n",
    "        fun = eqx.filter_vmap(fun, in_axes=in_axes, out_axes=out_axes)\n",
    "\n",
    "        # TEMP_Y\n",
    "        if c.loop_n_temps_y:\n",
    "            fun = filter_map(fun)\n",
    "        else:\n",
    "            fun = eqx.filter_vmap(fun, in_axes=in_axes, out_axes=out_axes)\n",
    "\n",
    "        # TEMP_X\n",
    "        fun = eqx.filter_pmap(fun, in_axes=in_axes, out_axes=out_axes)\n",
    "\n",
    "        # SAMPLES_LOOP\n",
    "        fun = filter_map(fun)\n",
    "\n",
    "        fun = eqx.filter_jit(fun)\n",
    "\n",
    "        return fun\n",
    "\n",
    "    return inner\n",
    "\n",
    "\n",
    "def calculate_known_total(steps: int) -> int:\n",
    "    total = steps\n",
    "    total *= N_SAMPLES_LOOP\n",
    "    total *= N_TEMPS_X\n",
    "\n",
    "    if c.loop_n_temps_y:\n",
    "        total *= N_TEMPS_Y\n",
    "\n",
    "    return total"
   ]
  },
  {
   "cell_type": "code",
   "execution_count": 8,
   "id": "802a19ac",
   "metadata": {
    "execution": {
     "iopub.execute_input": "2023-04-26T19:31:14.111666Z",
     "iopub.status.busy": "2023-04-26T19:31:14.111409Z",
     "iopub.status.idle": "2023-04-26T19:31:14.140358Z",
     "shell.execute_reply": "2023-04-26T19:31:14.139363Z"
    },
    "papermill": {
     "duration": 0.037256,
     "end_time": "2023-04-26T19:31:14.142056",
     "exception": false,
     "start_time": "2023-04-26T19:31:14.104800",
     "status": "completed"
    },
    "tags": []
   },
   "outputs": [],
   "source": [
    "# Single state\n",
    "if not PAPERMILL:\n",
    "    model = IsingModel.new(spin=c.spin, **MODEL_BASE_PARAMS)\n",
    "    state = State.new_uniform_random(\n",
    "        rng_key=k.new,\n",
    "        dimensions=c.dimensions,\n",
    "        size=c.size,\n",
    "        beta=1.0,\n",
    "        model=model,\n",
    "        algorithm=algorithm,\n",
    "        id_=0,\n",
    "    )\n",
    "\n",
    "    initial_state = state\n",
    "\n",
    "    state = state.evolve_sweeps(rng_key=k.new, sweeps=1)\n",
    "    measured = state.measure()\n",
    "\n",
    "    state.calculate_energy()\n",
    "    state.calculate_magnetisation_density()"
   ]
  },
  {
   "attachments": {},
   "cell_type": "markdown",
   "id": "cd0a7e46",
   "metadata": {
    "papermill": {
     "duration": 0.007212,
     "end_time": "2023-04-26T19:31:14.154534",
     "exception": false,
     "start_time": "2023-04-26T19:31:14.147322",
     "status": "completed"
    },
    "tags": []
   },
   "source": [
    "# Thermalisation"
   ]
  },
  {
   "cell_type": "code",
   "execution_count": 9,
   "id": "7bbc573c",
   "metadata": {
    "execution": {
     "iopub.execute_input": "2023-04-26T19:31:14.166299Z",
     "iopub.status.busy": "2023-04-26T19:31:14.166042Z"
    },
    "papermill": {
     "duration": 622.693604,
     "end_time": "2023-04-26T19:41:36.853495",
     "exception": false,
     "start_time": "2023-04-26T19:31:14.159891",
     "status": "completed"
    },
    "tags": []
   },
   "outputs": [
    {
     "name": "stdout",
     "output_type": "stream",
     "text": [
      "shape=(1, 8, 8, 4)\n"
     ]
    },
    {
     "name": "stderr",
     "output_type": "stream",
     "text": [
      "/home/jeppe/Jackpot/.venv/lib/python3.11/site-packages/jax/_src/dispatch.py:289: UserWarning: The jitted function make_and_thermalise_states includes a pmap. Using jit-of-pmap can lead to inefficient data movement, as the outer jit does not preserve sharded data representations and instead collects input and output arrays onto a single device. Consider removing the outer jit unless you know what you're doing. See https://github.com/google/jax/issues/2926.\n",
      "  warnings.warn(\n"
     ]
    },
    {
     "name": "stdout",
     "output_type": "stream",
     "text": [
      "Compiled thermalisation program in: 8.307337284088135 sec.\n"
     ]
    },
    {
     "name": "stderr",
     "output_type": "stream",
     "text": [
      "\r",
      "  0%|                                                                                | 0/800 [00:00<?, ?it/s]"
     ]
    },
    {
     "name": "stderr",
     "output_type": "stream",
     "text": [
      "\r",
      "  2%|█▌                                                                     | 18/800 [00:16<12:12,  1.07it/s]"
     ]
    },
    {
     "name": "stderr",
     "output_type": "stream",
     "text": [
      "\r",
      "  4%|██▍                                                                    | 28/800 [00:21<09:14,  1.39it/s]"
     ]
    },
    {
     "name": "stderr",
     "output_type": "stream",
     "text": [
      "\r",
      "  5%|███▎                                                                   | 38/800 [00:28<08:58,  1.41it/s]"
     ]
    },
    {
     "name": "stderr",
     "output_type": "stream",
     "text": [
      "\r",
      "  6%|████▎                                                                  | 48/800 [00:29<06:21,  1.97it/s]"
     ]
    },
    {
     "name": "stderr",
     "output_type": "stream",
     "text": [
      "\r",
      "  7%|█████▏                                                                 | 58/800 [00:37<07:19,  1.69it/s]"
     ]
    },
    {
     "name": "stderr",
     "output_type": "stream",
     "text": [
      "\r",
      "  8%|██████                                                                 | 68/800 [00:41<06:40,  1.83it/s]"
     ]
    },
    {
     "name": "stderr",
     "output_type": "stream",
     "text": [
      "\r",
      " 10%|██████▉                                                                | 78/800 [00:51<08:07,  1.48it/s]"
     ]
    },
    {
     "name": "stderr",
     "output_type": "stream",
     "text": [
      "\r",
      " 11%|███████▊                                                               | 88/800 [00:52<06:06,  1.94it/s]"
     ]
    },
    {
     "name": "stderr",
     "output_type": "stream",
     "text": [
      "\r",
      " 12%|████████▋                                                              | 98/800 [00:53<04:30,  2.60it/s]"
     ]
    },
    {
     "name": "stderr",
     "output_type": "stream",
     "text": [
      "\r",
      " 14%|█████████▍                                                            | 108/800 [01:05<07:16,  1.59it/s]"
     ]
    },
    {
     "name": "stderr",
     "output_type": "stream",
     "text": [
      "\r",
      " 15%|██████████▎                                                           | 118/800 [01:08<05:52,  1.94it/s]"
     ]
    },
    {
     "name": "stderr",
     "output_type": "stream",
     "text": [
      "\r",
      " 16%|███████████▏                                                          | 128/800 [01:09<04:21,  2.57it/s]"
     ]
    },
    {
     "name": "stderr",
     "output_type": "stream",
     "text": [
      "\r",
      " 17%|████████████                                                          | 138/800 [01:13<04:20,  2.55it/s]"
     ]
    },
    {
     "name": "stderr",
     "output_type": "stream",
     "text": [
      "\r",
      " 18%|████████████▉                                                         | 148/800 [01:14<03:22,  3.22it/s]"
     ]
    },
    {
     "name": "stderr",
     "output_type": "stream",
     "text": [
      "\r",
      " 20%|█████████████▊                                                        | 158/800 [01:15<02:32,  4.20it/s]"
     ]
    },
    {
     "name": "stderr",
     "output_type": "stream",
     "text": [
      "\r",
      " 21%|██████████████▋                                                       | 168/800 [01:17<02:32,  4.15it/s]"
     ]
    },
    {
     "name": "stderr",
     "output_type": "stream",
     "text": [
      "\r",
      " 22%|███████████████▌                                                      | 178/800 [01:23<03:35,  2.89it/s]"
     ]
    },
    {
     "name": "stderr",
     "output_type": "stream",
     "text": [
      "\r",
      " 24%|████████████████▍                                                     | 188/800 [01:24<02:53,  3.53it/s]"
     ]
    },
    {
     "name": "stderr",
     "output_type": "stream",
     "text": [
      "\r",
      " 25%|█████████████████▎                                                    | 198/800 [01:29<03:23,  2.96it/s]"
     ]
    },
    {
     "name": "stderr",
     "output_type": "stream",
     "text": [
      "\r",
      " 26%|██████████████████▏                                                   | 208/800 [01:37<04:37,  2.13it/s]"
     ]
    },
    {
     "name": "stderr",
     "output_type": "stream",
     "text": [
      "\r",
      " 27%|███████████████████                                                   | 218/800 [01:38<03:33,  2.72it/s]"
     ]
    },
    {
     "name": "stderr",
     "output_type": "stream",
     "text": [
      "\r",
      " 28%|███████████████████▉                                                  | 228/800 [01:41<03:14,  2.95it/s]"
     ]
    },
    {
     "name": "stderr",
     "output_type": "stream",
     "text": [
      "\r",
      " 30%|████████████████████▊                                                 | 238/800 [01:53<05:34,  1.68it/s]"
     ]
    },
    {
     "name": "stderr",
     "output_type": "stream",
     "text": [
      "\r",
      " 31%|█████████████████████▋                                                | 248/800 [01:53<04:01,  2.28it/s]"
     ]
    },
    {
     "name": "stderr",
     "output_type": "stream",
     "text": [
      "\r",
      " 32%|██████████████████████▍                                               | 257/800 [01:54<02:59,  3.03it/s]"
     ]
    },
    {
     "name": "stderr",
     "output_type": "stream",
     "text": [
      "\r",
      " 33%|███████████████████████▎                                              | 267/800 [02:00<03:35,  2.47it/s]"
     ]
    },
    {
     "name": "stderr",
     "output_type": "stream",
     "text": [
      "\r",
      " 35%|████████████████████████▏                                             | 277/800 [02:08<04:47,  1.82it/s]"
     ]
    },
    {
     "name": "stderr",
     "output_type": "stream",
     "text": [
      "\r",
      " 36%|█████████████████████████                                             | 287/800 [02:18<05:44,  1.49it/s]"
     ]
    },
    {
     "name": "stderr",
     "output_type": "stream",
     "text": [
      "\r",
      " 37%|█████████████████████████▉                                            | 297/800 [02:23<05:07,  1.64it/s]"
     ]
    },
    {
     "name": "stderr",
     "output_type": "stream",
     "text": [
      "\r",
      " 38%|██████████████████████████▊                                           | 307/800 [02:24<03:44,  2.19it/s]"
     ]
    },
    {
     "name": "stderr",
     "output_type": "stream",
     "text": [
      "\r",
      " 40%|███████████████████████████▋                                          | 317/800 [02:25<02:56,  2.74it/s]"
     ]
    },
    {
     "name": "stderr",
     "output_type": "stream",
     "text": [
      "\r",
      " 42%|█████████████████████████████▍                                        | 336/800 [02:26<01:41,  4.59it/s]"
     ]
    },
    {
     "name": "stderr",
     "output_type": "stream",
     "text": [
      "\r",
      " 42%|█████████████████████████████▍                                        | 336/800 [02:40<01:41,  4.59it/s]"
     ]
    },
    {
     "name": "stderr",
     "output_type": "stream",
     "text": [
      "\r",
      " 43%|██████████████████████████████▎                                       | 346/800 [02:45<04:58,  1.52it/s]"
     ]
    },
    {
     "name": "stderr",
     "output_type": "stream",
     "text": [
      "\r",
      " 44%|███████████████████████████████▏                                      | 356/800 [02:47<03:50,  1.93it/s]"
     ]
    },
    {
     "name": "stderr",
     "output_type": "stream",
     "text": [
      "\r",
      " 46%|████████████████████████████████                                      | 366/800 [02:49<03:13,  2.24it/s]"
     ]
    },
    {
     "name": "stderr",
     "output_type": "stream",
     "text": [
      "\r",
      " 47%|████████████████████████████████▉                                     | 376/800 [03:08<06:03,  1.17it/s]"
     ]
    },
    {
     "name": "stderr",
     "output_type": "stream",
     "text": [
      "\r",
      " 48%|█████████████████████████████████▊                                    | 386/800 [03:27<07:56,  1.15s/it]"
     ]
    },
    {
     "name": "stderr",
     "output_type": "stream",
     "text": [
      "\r",
      " 50%|██████████████████████████████████▋                                   | 396/800 [03:31<06:16,  1.07it/s]"
     ]
    },
    {
     "name": "stderr",
     "output_type": "stream",
     "text": [
      "\r",
      " 51%|███████████████████████████████████▍                                  | 405/800 [03:34<04:56,  1.33it/s]"
     ]
    },
    {
     "name": "stderr",
     "output_type": "stream",
     "text": [
      "\r",
      " 52%|████████████████████████████████████▎                                 | 415/800 [03:37<04:02,  1.59it/s]"
     ]
    },
    {
     "name": "stderr",
     "output_type": "stream",
     "text": [
      "\r",
      " 53%|█████████████████████████████████████▏                                | 425/800 [03:39<03:06,  2.01it/s]"
     ]
    },
    {
     "name": "stderr",
     "output_type": "stream",
     "text": [
      "\r",
      " 54%|██████████████████████████████████████                                | 435/800 [04:14<08:32,  1.40s/it]"
     ]
    },
    {
     "name": "stderr",
     "output_type": "stream",
     "text": [
      "\r",
      " 56%|██████████████████████████████████████▉                               | 445/800 [04:36<09:46,  1.65s/it]"
     ]
    },
    {
     "name": "stderr",
     "output_type": "stream",
     "text": [
      "\r",
      " 57%|███████████████████████████████████████▊                              | 455/800 [04:47<08:28,  1.47s/it]"
     ]
    },
    {
     "name": "stderr",
     "output_type": "stream",
     "text": [
      "\r",
      " 58%|████████████████████████████████████████▋                             | 465/800 [04:52<06:37,  1.19s/it]"
     ]
    },
    {
     "name": "stderr",
     "output_type": "stream",
     "text": [
      "\r",
      " 59%|█████████████████████████████████████████▌                            | 475/800 [05:35<11:32,  2.13s/it]"
     ]
    },
    {
     "name": "stderr",
     "output_type": "stream",
     "text": [
      "\r",
      " 61%|██████████████████████████████████████████▍                           | 485/800 [05:39<08:21,  1.59s/it]"
     ]
    },
    {
     "name": "stderr",
     "output_type": "stream",
     "text": [
      "\r",
      " 62%|███████████████████████████████████████████▎                          | 495/800 [05:46<06:42,  1.32s/it]"
     ]
    },
    {
     "name": "stderr",
     "output_type": "stream",
     "text": [
      "\r",
      " 63%|████████████████████████████████████████████▏                         | 505/800 [05:59<06:29,  1.32s/it]"
     ]
    },
    {
     "name": "stderr",
     "output_type": "stream",
     "text": [
      "\r",
      " 64%|█████████████████████████████████████████████                         | 515/800 [06:05<05:18,  1.12s/it]"
     ]
    },
    {
     "name": "stderr",
     "output_type": "stream",
     "text": [
      "\r",
      " 66%|█████████████████████████████████████████████▉                        | 525/800 [06:55<10:24,  2.27s/it]"
     ]
    },
    {
     "name": "stderr",
     "output_type": "stream",
     "text": [
      "\r",
      " 67%|██████████████████████████████████████████████▊                       | 535/800 [07:04<08:10,  1.85s/it]"
     ]
    },
    {
     "name": "stderr",
     "output_type": "stream",
     "text": [
      "\r",
      " 68%|███████████████████████████████████████████████▋                      | 545/800 [07:11<06:24,  1.51s/it]"
     ]
    },
    {
     "name": "stderr",
     "output_type": "stream",
     "text": [
      "\r",
      " 69%|████████████████████████████████████████████████▌                     | 555/800 [07:18<05:15,  1.29s/it]"
     ]
    },
    {
     "name": "stderr",
     "output_type": "stream",
     "text": [
      "\r",
      " 71%|█████████████████████████████████████████████████▍                    | 565/800 [08:04<08:54,  2.27s/it]"
     ]
    },
    {
     "name": "stderr",
     "output_type": "stream",
     "text": [
      "\r",
      " 72%|██████████████████████████████████████████████████▎                   | 575/800 [08:21<07:54,  2.11s/it]"
     ]
    },
    {
     "name": "stderr",
     "output_type": "stream",
     "text": [
      "\r",
      " 73%|███████████████████████████████████████████████████▏                  | 585/800 [08:23<05:28,  1.53s/it]"
     ]
    },
    {
     "name": "stderr",
     "output_type": "stream",
     "text": [
      "\r",
      " 74%|████████████████████████████████████████████████████                  | 595/800 [08:28<04:11,  1.22s/it]"
     ]
    },
    {
     "name": "stderr",
     "output_type": "stream",
     "text": [
      "\r",
      " 76%|████████████████████████████████████████████████████▉                 | 605/800 [08:32<03:06,  1.05it/s]"
     ]
    },
    {
     "name": "stderr",
     "output_type": "stream",
     "text": [
      "\r",
      " 77%|█████████████████████████████████████████████████████▊                | 615/800 [09:13<05:55,  1.92s/it]"
     ]
    },
    {
     "name": "stderr",
     "output_type": "stream",
     "text": [
      "\r",
      " 78%|██████████████████████████████████████████████████████▋               | 625/800 [09:32<05:34,  1.91s/it]"
     ]
    },
    {
     "name": "stderr",
     "output_type": "stream",
     "text": [
      "\r",
      " 79%|███████████████████████████████████████████████████████▌              | 635/800 [09:45<04:42,  1.71s/it]"
     ]
    },
    {
     "name": "stderr",
     "output_type": "stream",
     "text": [
      "\r",
      " 81%|████████████████████████████████████████████████████████▍             | 645/800 [09:53<03:43,  1.44s/it]"
     ]
    }
   ],
   "source": [
    "@transforms(in_axes=(0, None, None, 0, 0, None, None, None, None, None))\n",
    "def make_and_thermalise_states(\n",
    "    rng_key: RNGKey,\n",
    "    dimensions: int,\n",
    "    size: int,\n",
    "    beta: float,\n",
    "    id_: int,\n",
    "    steps: int,\n",
    "    sweeps_per_step: int,\n",
    "    model: Model,\n",
    "    algorithm: Algorithm,\n",
    "    num_prints: int = 10,\n",
    ") -> tuple[State, Measurement]:\n",
    "    \"\"\"\n",
    "    Constructs states and thermalises them, returning measurements along the\n",
    "    way in addition to the thermalised states.\n",
    "\n",
    "    Arguments:\n",
    "        rng_key: Source of randomness,\n",
    "        dimensions: Dimensionality of the system,\n",
    "        size: Size of each lattice dimension,\n",
    "        beta: The inverse temperature,\n",
    "        id_: An ID of the state,\n",
    "        steps: Number of steps in which to thermalise the state,\n",
    "        sweeps_per_step: How many times to perform a algorithm sweep per\n",
    "            thermalisation step,\n",
    "        model: Instance of the model to use,\n",
    "        algorithm: An instance of the algorithm to use,\n",
    "        num_prints: Number of times to update the progress bar (approximately),\n",
    "    \"\"\"\n",
    "    rng_key, state_key = random.split(key=rng_key, num=2)\n",
    "\n",
    "    state = State.new_minimal(\n",
    "        rng_key=state_key,\n",
    "        dimensions=dimensions,\n",
    "        size=size,\n",
    "        beta=beta,\n",
    "        model=model,\n",
    "        algorithm=algorithm,\n",
    "        id_=id_,\n",
    "    )\n",
    "\n",
    "    def evolve_and_measure(state: State, x: RNGKey) -> tuple[State, Measurement]:\n",
    "        _key = x\n",
    "        state = state.evolve_sweeps(rng_key=_key, sweeps=sweeps_per_step)\n",
    "        measurement = state.measure()\n",
    "\n",
    "        return state, measurement\n",
    "\n",
    "    keys = random.split(rng_key, num=steps)\n",
    "    scan = make_scan(\n",
    "        tqdm=tqdm, num_prints=num_prints, known_total=calculate_known_total(steps)\n",
    "    )\n",
    "    state, measurements = scan(f=evolve_and_measure, init=state, xs=keys)\n",
    "\n",
    "    return state, measurements\n",
    "\n",
    "\n",
    "_betas = rearrange(betas, \"(x y) -> x y\", x=N_TEMPS_X, y=N_TEMPS_Y)\n",
    "_betas = repeat(\n",
    "    _betas,\n",
    "    \"x y -> s_loop x y s_vec\",\n",
    "    s_vec=c.n_samples_vectorise,\n",
    "    s_loop=N_SAMPLES_LOOP,\n",
    ")\n",
    "shape = _betas.shape\n",
    "print(f\"{shape=}\")\n",
    "\n",
    "ids = np.arange(np.prod(shape)).reshape(shape)\n",
    "\n",
    "# Make state\n",
    "model = IsingModel.new(\n",
    "    spin=c.spin,\n",
    "    **MODEL_BASE_PARAMS,\n",
    ")\n",
    "\n",
    "# rng_key: RNGKey\n",
    "# spin: floatj\n",
    "# dimensions: int\n",
    "# size: int\n",
    "# beta: float\n",
    "# id_: int\n",
    "# steps: int\n",
    "# sweeps_per_step: int\n",
    "# kwargs: dict[str, Any]\n",
    "# num_prints: int = 10\n",
    "state_keys = k.shaped(shape)\n",
    "thermalise_num_prints = 10\n",
    "\n",
    "thermalise_compile_timer = Stopwatch.start()\n",
    "make_and_thermalise_states_compiled = make_and_thermalise_states.lower(\n",
    "    state_keys,\n",
    "    c.dimensions,\n",
    "    c.size,\n",
    "    _betas,\n",
    "    ids,\n",
    "    c.thermalise_steps,\n",
    "    c.thermalise_sweeps_per_step,\n",
    "    model,\n",
    "    algorithm,\n",
    "    thermalise_num_prints,\n",
    ").compile()\n",
    "thermalise_compile_time = thermalise_compile_timer.time()\n",
    "to_save[\"thermalise_compile_time\"] = thermalise_compile_time\n",
    "print(f\"Compiled thermalisation program in: {thermalise_compile_time} sec.\")\n",
    "\n",
    "thermalise_run_timer = Stopwatch.start()\n",
    "states, evolve_measurements = make_and_thermalise_states_compiled(\n",
    "    state_keys,\n",
    "    c.dimensions,\n",
    "    c.size,\n",
    "    _betas,\n",
    "    ids,\n",
    "    c.thermalise_steps,\n",
    "    c.thermalise_sweeps_per_step,\n",
    "    model,\n",
    "    algorithm,\n",
    "    thermalise_num_prints,\n",
    ")\n",
    "states.block_until_ready()\n",
    "thermalise_run_time = thermalise_run_timer.time()\n",
    "to_save[\"thermalise_run_time\"] = thermalise_run_time\n",
    "print(f\"Ran thermalisation program in: {thermalise_run_time} sec.\")\n",
    "\n",
    "eqx.tree_serialise_leaves(SAVE_PATH / \"states.eqx\", states)"
   ]
  },
  {
   "cell_type": "code",
   "execution_count": null,
   "id": "af6d6430",
   "metadata": {
    "papermill": {
     "duration": null,
     "end_time": null,
     "exception": null,
     "start_time": null,
     "status": "completed"
    },
    "tags": []
   },
   "outputs": [],
   "source": [
    "_evolve_meas_df = evolve_measurements.to_df()\n",
    "evolve_meas_df = _evolve_meas_df.explode(\n",
    "    _evolve_meas_df.columns.tolist()\n",
    ").infer_objects()\n",
    "\n",
    "evolve_meas_df[\"temp\"] = beta_to_temp(evolve_meas_df[\"beta\"], human=True)\n",
    "evolve_meas_df[\"abs_magnetisation_density\"] = np.abs(\n",
    "    evolve_meas_df[\"magnetisation_density\"]\n",
    ")"
   ]
  },
  {
   "cell_type": "code",
   "execution_count": null,
   "id": "ef178af8",
   "metadata": {
    "papermill": {
     "duration": null,
     "end_time": null,
     "exception": null,
     "start_time": null,
     "status": "completed"
    },
    "tags": []
   },
   "outputs": [],
   "source": [
    "# Get only last measurements\n",
    "last_meas_df = (\n",
    "    evolve_meas_df.sort_values(\"sweeps\", ascending=False).groupby(\"state_id\").first()\n",
    ")\n",
    "n_steps = last_meas_df[\"steps\"].sum()\n",
    "\n",
    "flip_rate = n_steps / (thermalise_run_time * 1e6)  # flips / μs\n",
    "to_save[\"flip_rate\"] = flip_rate\n",
    "print(f\"Flip rate: {flip_rate} flips/μs\")"
   ]
  },
  {
   "cell_type": "code",
   "execution_count": null,
   "id": "28c3593d",
   "metadata": {
    "papermill": {
     "duration": null,
     "end_time": null,
     "exception": null,
     "start_time": null,
     "status": "completed"
    },
    "tags": []
   },
   "outputs": [],
   "source": [
    "evolve_meas_df.reset_index().to_feather(SAVE_PATH / \"evolve_meas_df.feather\")"
   ]
  },
  {
   "cell_type": "code",
   "execution_count": null,
   "id": "c6b672fd",
   "metadata": {
    "papermill": {
     "duration": null,
     "end_time": null,
     "exception": null,
     "start_time": null,
     "status": "completed"
    },
    "tags": []
   },
   "outputs": [],
   "source": [
    "fig_evolve_energy_sweeps = sns.relplot(\n",
    "    data=evolve_meas_df,\n",
    "    x=\"sweeps\",\n",
    "    y=\"energy\",\n",
    "    hue=\"temp\",\n",
    "    palette=\"Spectral_r\",\n",
    ")\n",
    "fig_evolve_energy_sweeps.savefig(SAVE_PATH / \"fig_evolve_energy_sweeps.png\")\n",
    "\n",
    "fig_evolve_mag_dens_sweeps = sns.relplot(\n",
    "    data=evolve_meas_df,\n",
    "    x=\"sweeps\",\n",
    "    y=\"magnetisation_density\",\n",
    "    hue=\"temp\",\n",
    "    palette=\"Spectral_r\",\n",
    ")\n",
    "fig_evolve_mag_dens_sweeps.savefig(SAVE_PATH / \"fig_evolve_mag_dens_sweeps.png\")\n",
    "\n",
    "last_sweeps = evolve_meas_df[\n",
    "    evolve_meas_df[\"sweeps\"] == np.max(evolve_meas_df[\"sweeps\"])\n",
    "]\n",
    "\n",
    "fig_evolve_energy_temp = sns.relplot(\n",
    "    data=last_sweeps,\n",
    "    x=\"temp\",\n",
    "    y=\"energy\",\n",
    "    # hue=\"beta\",\n",
    "    kind=\"line\",\n",
    "    # errorbar=None\n",
    ")\n",
    "fig_evolve_energy_temp.savefig(SAVE_PATH / \"fig_evolve_energy_temp.png\")\n",
    "\n",
    "fig_evolve_mag_dens_temp = sns.relplot(\n",
    "    data=last_sweeps,\n",
    "    x=\"temp\",\n",
    "    y=\"magnetisation_density\",\n",
    ")\n",
    "fig_evolve_mag_dens_temp.savefig(SAVE_PATH / \"fig_evolve_mag_dens_temp.png\")\n",
    "\n",
    "fig_evolve_abs_mag_dens_temp = sns.relplot(\n",
    "    data=last_sweeps,\n",
    "    x=\"temp\",\n",
    "    y=\"abs_magnetisation_density\",\n",
    "    kind=\"line\",\n",
    "    # errorbar=None\n",
    ")\n",
    "fig_evolve_abs_mag_dens_temp.savefig(SAVE_PATH / \"fig_evolve_abs_mag_dens_temp.png\")"
   ]
  },
  {
   "cell_type": "code",
   "execution_count": null,
   "id": "18257ad7",
   "metadata": {
    "papermill": {
     "duration": null,
     "end_time": null,
     "exception": null,
     "start_time": null,
     "status": "completed"
    },
    "tags": []
   },
   "outputs": [],
   "source": [
    "if c.plot_states:\n",
    "    states_list = states.unensamble()\n",
    "    temp_states = states_list[: c.n_temps]"
   ]
  },
  {
   "cell_type": "code",
   "execution_count": null,
   "id": "9ca4509f",
   "metadata": {
    "papermill": {
     "duration": null,
     "end_time": null,
     "exception": null,
     "start_time": null,
     "status": "completed"
    },
    "tags": []
   },
   "outputs": [],
   "source": [
    "if c.plot_states:\n",
    "\n",
    "    @interact(value=0, min=0, max=len(temp_states))\n",
    "    def update(i=(0, len(temp_states) - 1)):\n",
    "        fig = temp_states[i].plot()\n",
    "        fig.set_size_inches(10, 10)\n",
    "        fig.dpi = 100\n",
    "\n",
    "    ..."
   ]
  },
  {
   "cell_type": "code",
   "execution_count": null,
   "id": "dd629676",
   "metadata": {
    "papermill": {
     "duration": null,
     "end_time": null,
     "exception": null,
     "start_time": null,
     "status": "completed"
    },
    "tags": []
   },
   "outputs": [],
   "source": [
    "if c.check_thermalised:\n",
    "    # Fit saturating decay times to quantifiably understand whether we have fully thermalised\n",
    "    def fit_thermalisation(group):\n",
    "        x = group[\"sweeps\"]\n",
    "        y = group[\"energy\"]\n",
    "\n",
    "        amplitude = np.max(y) - np.min(y)\n",
    "        decay = np.max(x)\n",
    "        offset = y.iloc[-1]\n",
    "\n",
    "        params = SaturatingExponential.make_params()\n",
    "        params[\"amplitude\"].set(amplitude)\n",
    "        params[\"decay\"].set(decay, min=0, max=np.inf)\n",
    "        params[\"c\"].set(offset)\n",
    "\n",
    "        fit = SaturatingExponential.fit(y, params, x=x)\n",
    "\n",
    "        assert np.ptp(group[\"temp\"]) == 0.0\n",
    "\n",
    "        return pd.Series(\n",
    "            {\n",
    "                \"temp\": group[\"temp\"].iloc[0],\n",
    "                \"therm_amplitude\": fit.params[\"amplitude\"].value,\n",
    "                \"therm_amplitude_sd\": fit.params[\"amplitude\"].stderr,\n",
    "                \"therm_decay\": fit.params[\"decay\"].value,\n",
    "                \"therm_decay_sd\": fit.params[\"decay\"].stderr,\n",
    "                \"therm_offset\": fit.params[\"c\"].value,\n",
    "                \"therm_offset_sd\": fit.params[\"c\"].stderr,\n",
    "            }\n",
    "        )\n",
    "\n",
    "    evolve_meas_fit_df = evolve_meas_df.groupby(\"state_id\", as_index=False).apply(\n",
    "        fit_thermalisation\n",
    "    )\n",
    "    fig_evolve_therm_fit = sns.relplot(\n",
    "        data=evolve_meas_fit_df,\n",
    "        x=\"temp\",\n",
    "        y=\"therm_decay\",\n",
    "    )\n",
    "    fig_evolve_therm_fit.savefig(SAVE_PATH / \"fig_evolve_therm_fit.png\")\n",
    "\n",
    "    def _has_thermalised():\n",
    "        high_temp_df = evolve_meas_fit_df[\n",
    "            evolve_meas_fit_df[\"temp\"] == evolve_meas_fit_df[\"temp\"].max()\n",
    "        ]\n",
    "        therm_check_df = high_temp_df[\n",
    "            high_temp_df[\"therm_decay\"] > 4.0 * high_temp_df[\"therm_decay_sd\"]\n",
    "        ]\n",
    "\n",
    "        # We have no data to check probably because system is very very thermalised\n",
    "        # and thus has no data to fit to exponential\n",
    "        if not len(therm_check_df):\n",
    "            return True\n",
    "\n",
    "        longest_decay = therm_check_df[\"therm_decay\"].max()\n",
    "        print(longest_decay)\n",
    "        if evolve_meas_df[\"sweeps\"].max() > 6.0 * longest_decay:\n",
    "            return True\n",
    "\n",
    "        return False\n",
    "\n",
    "    has_thermalised = _has_thermalised()\n",
    "\n",
    "    if not has_thermalised:\n",
    "        raise RuntimeError(\"System has not fully thermalised!\")"
   ]
  },
  {
   "attachments": {},
   "cell_type": "markdown",
   "id": "b932f5e0",
   "metadata": {
    "papermill": {
     "duration": null,
     "end_time": null,
     "exception": null,
     "start_time": null,
     "status": "completed"
    },
    "tags": []
   },
   "source": [
    "# Autocorrelation"
   ]
  },
  {
   "cell_type": "code",
   "execution_count": null,
   "id": "aa56a7c8",
   "metadata": {
    "papermill": {
     "duration": null,
     "end_time": null,
     "exception": null,
     "start_time": null,
     "status": "completed"
    },
    "tags": []
   },
   "outputs": [],
   "source": [
    "if c.do_autocorrelation:\n",
    "\n",
    "    @transforms(in_axes=(0, 0, None, None, None), out_axes=0)\n",
    "    def get_autocorrelation(\n",
    "        key: RNGKey, state: State, steps: int, sweeps_per_step: int, num_prints: int\n",
    "    ) -> AutocorrelationData:\n",
    "        keys = random.split(key, num=steps)\n",
    "\n",
    "        def get_measurement_scan(state: State, x: RNGKey) -> tuple[State, Measurement]:\n",
    "            rng_key = x\n",
    "            state = state.evolve_sweeps(rng_key=rng_key, sweeps=sweeps_per_step)\n",
    "            measurement = state.measure()\n",
    "\n",
    "            return state, measurement\n",
    "\n",
    "        scan = make_scan(\n",
    "            tqdm=tqdm, num_prints=num_prints, known_total=calculate_known_total(steps)\n",
    "        )\n",
    "        state, measurements = scan(f=get_measurement_scan, init=state, xs=keys)\n",
    "\n",
    "        acorr_energy = acf(measurements.energy)\n",
    "        acorr_mag_dens = acf(jnp.abs(measurements.magnetisation_density))\n",
    "\n",
    "        sweeps = jnp.arange(acorr_energy.size) * sweeps_per_step\n",
    "\n",
    "        # Fit exponential decay to find characteristic autocorrelation time\n",
    "        def exponential_decay(x, tau):\n",
    "            \"\"\"\n",
    "            f(x) = exp(- x / τ)\n",
    "            \"\"\"\n",
    "            return jnp.exp(-x / tau)\n",
    "\n",
    "        # Objective function to minimise\n",
    "        def objective(params, x, y, weights):\n",
    "            tau = params\n",
    "            trial = exponential_decay(x, tau)\n",
    "            residuals = y - trial\n",
    "            weighted_residuals = weights * residuals\n",
    "\n",
    "            return jnp.sum(weighted_residuals**2)\n",
    "\n",
    "        energy_initial_params = jnp.asarray([float(sweeps_per_step)])\n",
    "        # Noise at high x (low y) dominates fit.\n",
    "        # Weigh by ordinate magnitude\n",
    "        energy_weights = jnp.abs(acorr_energy)\n",
    "        energy_decay_time = minimize(\n",
    "            objective,\n",
    "            x0=energy_initial_params,\n",
    "            method=\"BFGS\",\n",
    "            args=(sweeps, acorr_energy, energy_weights),\n",
    "        ).x[0]\n",
    "\n",
    "        mag_dens_initial_params = jnp.asarray([float(sweeps_per_step)])\n",
    "        mag_dens_weights = jnp.abs(acorr_mag_dens)\n",
    "        mag_dens_decay_time = minimize(\n",
    "            objective,\n",
    "            x0=mag_dens_initial_params,\n",
    "            method=\"BFGS\",\n",
    "            args=(sweeps, acorr_mag_dens, mag_dens_weights),\n",
    "        ).x[0]\n",
    "\n",
    "        return AutocorrelationData(\n",
    "            state=state,\n",
    "            steps=steps,\n",
    "            sweeps_per_step=sweeps_per_step,\n",
    "            sweeps=sweeps,\n",
    "            energy=acorr_energy,\n",
    "            magnetisation_density=acorr_mag_dens,\n",
    "            energy_decay_time=energy_decay_time,\n",
    "            magnetisation_density_decay_time=mag_dens_decay_time,\n",
    "        )\n",
    "\n",
    "    keys = k.shaped(states.transformation_shape)\n",
    "\n",
    "    autocorrelation_timer = Stopwatch.start()\n",
    "    ac_data = get_autocorrelation(\n",
    "        keys, states, c.autocorrelation_steps, c.autocorrelation_sweeps_per_step, 10\n",
    "    )\n",
    "    ac_data.block_until_ready()\n",
    "\n",
    "    autocorrelation_time = autocorrelation_timer.time()\n",
    "    to_save[\"autocorrelation_time\"] = autocorrelation_time\n",
    "    print(f\"Ran autocorrelation program in: {autocorrelation_time} sec.\")\n",
    "\n",
    "    eqx.tree_serialise_leaves(SAVE_PATH / \"ac_data.eqx\", ac_data)"
   ]
  },
  {
   "cell_type": "code",
   "execution_count": null,
   "id": "72c83a43",
   "metadata": {
    "papermill": {
     "duration": null,
     "end_time": null,
     "exception": null,
     "start_time": null,
     "status": "completed"
    },
    "tags": []
   },
   "outputs": [],
   "source": [
    "if c.do_autocorrelation:\n",
    "    ac_df = ac_data.to_df()\n",
    "    ac_df[\"temp\"] = beta_to_temp(ac_df[\"state.beta\"], human=True)\n",
    "    ac_df_expl = ac_df.explode(\n",
    "        [\"energy\", \"magnetisation_density\", \"sweeps\"]\n",
    "    ).infer_objects()\n",
    "\n",
    "    ac_df_expl[\"energy_fit\"] = np.exp(\n",
    "        -ac_df_expl[\"sweeps\"] / ac_df_expl[\"energy_decay_time\"]\n",
    "    )\n",
    "    ac_df_expl[\"mag_dens_fit\"] = np.exp(\n",
    "        -ac_df_expl[\"sweeps\"] / ac_df_expl[\"magnetisation_density_decay_time\"]\n",
    "    )\n",
    "\n",
    "    display(ac_df)\n",
    "    display(ac_df_expl)\n",
    "\n",
    "    ac_df.reset_index().to_feather(SAVE_PATH / \"ac_df.feather\")\n",
    "    ac_df_expl.reset_index().to_feather(SAVE_PATH / \"ac_df_expl.feather\")"
   ]
  },
  {
   "cell_type": "code",
   "execution_count": null,
   "id": "775cd2a2",
   "metadata": {
    "papermill": {
     "duration": null,
     "end_time": null,
     "exception": null,
     "start_time": null,
     "status": "completed"
    },
    "tags": []
   },
   "outputs": [],
   "source": [
    "if c.do_autocorrelation:\n",
    "    fig_autocorrelation_energy = plt.figure()\n",
    "    sns.lineplot(\n",
    "        data=ac_df_expl,\n",
    "        x=\"sweeps\",\n",
    "        y=\"energy\",\n",
    "        hue=\"temp\",\n",
    "        palette=\"Spectral_r\",\n",
    "        errorbar=None,\n",
    "    )\n",
    "    sns.lineplot(\n",
    "        data=ac_df_expl,\n",
    "        x=\"sweeps\",\n",
    "        y=\"energy_fit\",\n",
    "        hue=\"temp\",\n",
    "        palette=\"Spectral_r\",\n",
    "        ls=\"--\",\n",
    "        errorbar=None,\n",
    "    )\n",
    "    fig_autocorrelation_energy.savefig(SAVE_PATH / \"fig_autocorrelation_energy.png\")\n",
    "\n",
    "    fig_autocorrelation_mag_dens = plt.figure()\n",
    "    sns.lineplot(\n",
    "        data=ac_df_expl,\n",
    "        x=\"sweeps\",\n",
    "        y=\"magnetisation_density\",\n",
    "        hue=\"temp\",\n",
    "        palette=\"Spectral_r\",\n",
    "        errorbar=None,\n",
    "    )\n",
    "    sns.lineplot(\n",
    "        data=ac_df_expl,\n",
    "        x=\"sweeps\",\n",
    "        y=\"mag_dens_fit\",\n",
    "        hue=\"temp\",\n",
    "        palette=\"Spectral_r\",\n",
    "        ls=\"--\",\n",
    "        errorbar=None,\n",
    "    )\n",
    "    fig_autocorrelation_mag_dens.savefig(SAVE_PATH / \"fig_autocorrelation_mag_dens.png\")\n",
    "\n",
    "    fig_autocorrelation_decay_times, ax1 = plt.subplots()\n",
    "    ax2 = ax1.twinx()\n",
    "\n",
    "    sns.lineplot(\n",
    "        data=ac_df,\n",
    "        x=\"temp\",\n",
    "        y=\"energy_decay_time\",\n",
    "        ax=ax1,\n",
    "    )\n",
    "    sns.lineplot(\n",
    "        data=ac_df,\n",
    "        x=\"temp\",\n",
    "        y=\"magnetisation_density_decay_time\",\n",
    "        ax=ax2,\n",
    "        color=\"orange\",\n",
    "    )\n",
    "    plt.show()\n",
    "    fig_autocorrelation_decay_times.savefig(\n",
    "        SAVE_PATH / \"fig_autocorrelation_decay_times.png\"\n",
    "    )"
   ]
  },
  {
   "attachments": {},
   "cell_type": "markdown",
   "id": "d88bb078",
   "metadata": {
    "papermill": {
     "duration": null,
     "end_time": null,
     "exception": null,
     "start_time": null,
     "status": "completed"
    },
    "tags": []
   },
   "source": [
    "# Measure Equilibrium"
   ]
  },
  {
   "cell_type": "code",
   "execution_count": null,
   "id": "20d9b461",
   "metadata": {
    "papermill": {
     "duration": null,
     "end_time": null,
     "exception": null,
     "start_time": null,
     "status": "completed"
    },
    "tags": []
   },
   "outputs": [],
   "source": [
    "if c.do_measure:\n",
    "\n",
    "    @transforms(in_axes=(0, 0, None, None, None, None), out_axes=0)\n",
    "    def measure_equilibrium(\n",
    "        key: RNGKey, state: State, steps: int, num: int, sweeps: int, num_prints: int\n",
    "    ) -> Measurement:\n",
    "        def body_fun(carry: State, x: RNGKey):\n",
    "            _rng_key = x\n",
    "            measurements = carry.evolve_and_measure_multiple(\n",
    "                rng_key=_rng_key, num=num, sweeps=sweeps\n",
    "            )\n",
    "\n",
    "            return carry, measurements\n",
    "\n",
    "        keys = random.split(key=key, num=steps)\n",
    "        scan = make_scan(\n",
    "            tqdm=tqdm, num_prints=num_prints, known_total=calculate_known_total(steps)\n",
    "        )\n",
    "        state, measurements = scan(f=body_fun, init=state, xs=keys)\n",
    "\n",
    "        return measurements\n",
    "\n",
    "    keys = k.shaped(states.transformation_shape)\n",
    "\n",
    "    measurement_timer = Stopwatch.start()\n",
    "    equil_measurements = measure_equilibrium(\n",
    "        keys,\n",
    "        states,\n",
    "        c.measure_equilibrium_steps,\n",
    "        c.measure_equilibrium_num,\n",
    "        c.measure_equilibrium_sweeps_per_step,\n",
    "        10,\n",
    "    )\n",
    "    equil_measurements.block_until_ready()\n",
    "\n",
    "    measurement_time = measurement_timer.time()\n",
    "    to_save[\"measurement_time\"] = measurement_time\n",
    "    print(f\"Ran measurement program in: {measurement_time} sec.\")\n",
    "\n",
    "    eqx.tree_serialise_leaves(SAVE_PATH / \"equil_measurements.eqx\", equil_measurements)"
   ]
  },
  {
   "cell_type": "code",
   "execution_count": null,
   "id": "7355d77d",
   "metadata": {
    "papermill": {
     "duration": null,
     "end_time": null,
     "exception": null,
     "start_time": null,
     "status": "completed"
    },
    "tags": []
   },
   "outputs": [],
   "source": [
    "if c.do_measure:\n",
    "    _eq_df = equil_measurements.to_df()\n",
    "    eq_df = _eq_df.explode(_eq_df.columns.tolist()).infer_objects()\n",
    "    eq_df"
   ]
  },
  {
   "cell_type": "code",
   "execution_count": null,
   "id": "4aefb364",
   "metadata": {
    "papermill": {
     "duration": null,
     "end_time": null,
     "exception": null,
     "start_time": null,
     "status": "completed"
    },
    "tags": []
   },
   "outputs": [],
   "source": [
    "if c.do_measure:\n",
    "    # Create two dataframes of different 'shapes'\n",
    "    # meas_df: holds data that is defined on every state\n",
    "    # sample_df: holds data that is summarised across particular systems (those with same state_id)\n",
    "    # temp_df: holds data that is summarised across all systems of a particular temperature\n",
    "    def find_bootstrap_std_err(data):\n",
    "        bootstraps = bootstrap(jnp.asarray(data), jnp.var, num_samples=32, key=k.new)\n",
    "        std = jnp.std(bootstraps)\n",
    "        return std.item()\n",
    "\n",
    "    meas_df = eq_df.copy()\n",
    "    meas_df[\"natural_temperature\"] = beta_to_temp(meas_df[\"beta\"], human=True)\n",
    "    meas_df[\"temperature\"] = beta_to_temp(meas_df[\"beta\"], human=False)\n",
    "    meas_df[\"abs_magnetisation_density\"] = np.abs(meas_df[\"magnetisation_density\"])\n",
    "\n",
    "    temp_df = pd.DataFrame()\n",
    "\n",
    "    # Energy - Summarised\n",
    "    temp_group = meas_df.groupby([\"natural_temperature\", \"temperature\", \"beta\"])\n",
    "    temp_df[\"energies_mean\"] = temp_group[\"energy\"].mean()\n",
    "    temp_df[\"energies_var\"] = temp_group[\"energy\"].var()\n",
    "    temp_df[\"energies_var_sd\"] = temp_group[\"energy\"].apply(find_bootstrap_std_err)\n",
    "    temp_df[\"energies_var_var\"] = temp_df[\"energies_var_sd\"] ** 2\n",
    "\n",
    "    # Magnetisation Density - Summarised\n",
    "    temp_df[\"mag_dens_mean\"] = temp_group[\"magnetisation_density\"].mean()\n",
    "    temp_df[\"mag_dens_var\"] = temp_group[\"magnetisation_density\"].var()\n",
    "    temp_df[\"mag_dens_var_sd\"] = temp_group[\"magnetisation_density\"].apply(\n",
    "        find_bootstrap_std_err\n",
    "    )\n",
    "    temp_df[\"mag_dens_var_var\"] = temp_df[\"mag_dens_var_sd\"] ** 2\n",
    "\n",
    "    temp_df[\"mag_dens_abs_mean\"] = temp_group[\"abs_magnetisation_density\"].mean()\n",
    "    temp_df[\"mag_dens_abs_var\"] = temp_group[\"abs_magnetisation_density\"].var()\n",
    "    temp_df[\"mag_dens_abs_var_sd\"] = temp_group[\"abs_magnetisation_density\"].apply(\n",
    "        find_bootstrap_std_err\n",
    "    )\n",
    "    temp_df[\"mag_dens_abs_var_var\"] = temp_df[\"mag_dens_abs_var_sd\"] ** 2\n",
    "\n",
    "    # index\n",
    "    temp_df = temp_df.reset_index()\n",
    "\n",
    "    # Heat Capacity\n",
    "    temp_df[\"heat_cap_fluctuation\"] = temp_df[\"energies_var\"] / (\n",
    "        constants.Boltzmann * np.square(temp_df[\"temperature\"].astype(np.float128))\n",
    "    ).astype(np.float64)\n",
    "    temp_df[\"heat_cap_gradient\"] = np.gradient(\n",
    "        temp_df[\"energies_mean\"], temp_df[\"temperature\"].astype(np.float128)\n",
    "    ).astype(np.float64)\n",
    "\n",
    "    # Magnetic Susceptibility\n",
    "    if not c.interaction_external_field:\n",
    "        temp_df[\"mag_sus_fluctuation\"] = (\n",
    "            states.size\n",
    "            * constants.Boltzmann\n",
    "            * temp_df[\"beta\"]\n",
    "            * temp_df[\"mag_dens_abs_var\"]\n",
    "        )\n",
    "        temp_df[\"mag_sus_gradient\"] = states.size * np.abs(\n",
    "            np.gradient(\n",
    "                temp_df[\"mag_dens_abs_mean\"], temp_df[\"temperature\"].astype(np.float128)\n",
    "            ).astype(np.float64)\n",
    "        )\n",
    "\n",
    "    # Binder cumulant\n",
    "    sample_df = pd.DataFrame()\n",
    "\n",
    "    meas_df[\"mag_1\"] = np.abs(eq_df[\"magnetisation_density\"])\n",
    "    meas_df[\"mag_2\"] = np.power(eq_df[\"magnetisation_density\"], 2)\n",
    "    meas_df[\"mag_4\"] = np.power(eq_df[\"magnetisation_density\"], 4)\n",
    "\n",
    "    sample_group = meas_df.groupby(\"state_id\")\n",
    "\n",
    "    sample_df[\"mag_1_mean\"] = meas_df.groupby(\"state_id\")[\"mag_1\"].mean()\n",
    "    sample_df[\"mag_2_mean\"] = meas_df.groupby(\"state_id\")[\"mag_2\"].mean()\n",
    "    sample_df[\"mag_4_mean\"] = meas_df.groupby(\"state_id\")[\"mag_4\"].mean()\n",
    "\n",
    "    sample_df[\"binder_2\"] = 1 - sample_df[\"mag_2_mean\"] / np.square(\n",
    "        sample_df[\"mag_1_mean\"]\n",
    "    )\n",
    "    sample_df[\"binder_4\"] = 1.0 / 3.0 - sample_df[\"mag_4_mean\"] / (\n",
    "        3.0 * np.square(sample_df[\"mag_2_mean\"])\n",
    "    )\n",
    "\n",
    "    sample_df[\"natural_temperature\"] = sample_group[\"natural_temperature\"].first()\n",
    "    sample_df[\"temperature\"] = sample_group[\"temperature\"].first()\n",
    "    sample_df[\"beta\"] = sample_group[\"beta\"].first()\n",
    "\n",
    "    meas_df.reset_index().to_feather(SAVE_PATH / \"meas_df.feather\")\n",
    "    temp_df.reset_index().to_feather(SAVE_PATH / \"temp_df.feather\")\n",
    "    sample_df.reset_index().to_feather(SAVE_PATH / \"sample_df.feather\")"
   ]
  },
  {
   "cell_type": "code",
   "execution_count": null,
   "id": "b84efd15",
   "metadata": {
    "papermill": {
     "duration": null,
     "end_time": null,
     "exception": null,
     "start_time": null,
     "status": "completed"
    },
    "tags": []
   },
   "outputs": [],
   "source": [
    "meas_df"
   ]
  },
  {
   "cell_type": "code",
   "execution_count": null,
   "id": "6e5132aa",
   "metadata": {
    "papermill": {
     "duration": null,
     "end_time": null,
     "exception": null,
     "start_time": null,
     "status": "completed"
    },
    "tags": []
   },
   "outputs": [],
   "source": [
    "if c.do_measure:\n",
    "    fig_measure_energy_temp = sns.relplot(\n",
    "        data=meas_df,\n",
    "        x=\"natural_temperature\",\n",
    "        y=\"energy\",\n",
    "        kind=\"line\",\n",
    "    )\n",
    "    fig_measure_energy_temp.savefig(SAVE_PATH / \"fig_measure_energy_temp.png\")\n",
    "\n",
    "    fig_measure_mag_dens_temp = sns.relplot(\n",
    "        data=meas_df,\n",
    "        x=\"natural_temperature\",\n",
    "        y=\"magnetisation_density\",\n",
    "        # kind=\"line\",\n",
    "    )\n",
    "    fig_measure_mag_dens_temp.savefig(SAVE_PATH / \"fig_measure_mag_dens_temp.png\")\n",
    "\n",
    "    fig_measure_abs_mag_dens_temp = sns.relplot(\n",
    "        data=meas_df,\n",
    "        x=\"natural_temperature\",\n",
    "        y=\"abs_magnetisation_density\",\n",
    "        kind=\"line\",\n",
    "    )\n",
    "    fig_measure_abs_mag_dens_temp.savefig(\n",
    "        SAVE_PATH / \"fig_measure_abs_mag_dens_temp.png\"\n",
    "    )"
   ]
  },
  {
   "cell_type": "code",
   "execution_count": null,
   "id": "175ea1da",
   "metadata": {
    "papermill": {
     "duration": null,
     "end_time": null,
     "exception": null,
     "start_time": null,
     "status": "completed"
    },
    "tags": []
   },
   "outputs": [],
   "source": [
    "if c.do_measure:\n",
    "    fig_measure_heat_cap_fluctuation_temp = sns.relplot(\n",
    "        data=temp_df,\n",
    "        x=\"natural_temperature\",\n",
    "        y=\"heat_cap_fluctuation\",\n",
    "        kind=\"line\",\n",
    "    )\n",
    "    fig_measure_heat_cap_fluctuation_temp.savefig(\n",
    "        SAVE_PATH / \"fig_measure_heat_cap_fluctuation_temp.png\"\n",
    "    )\n",
    "\n",
    "    fig_measure_heat_cap_gradient_temp = sns.relplot(\n",
    "        data=temp_df,\n",
    "        x=\"natural_temperature\",\n",
    "        y=\"heat_cap_gradient\",\n",
    "        kind=\"line\",\n",
    "    )\n",
    "    fig_measure_heat_cap_gradient_temp.savefig(\n",
    "        SAVE_PATH / \"fig_measure_heat_cap_gradient_temp.png\"\n",
    "    )\n",
    "\n",
    "    if not c.interaction_external_field:\n",
    "        fig_measure_mag_sus_fluctuation_temp = sns.relplot(\n",
    "            data=temp_df,\n",
    "            x=\"natural_temperature\",\n",
    "            y=\"mag_sus_fluctuation\",\n",
    "            kind=\"line\",\n",
    "        )\n",
    "        fig_measure_mag_sus_fluctuation_temp.savefig(\n",
    "            SAVE_PATH / \"fig_measure_mag_sus_fluctuation_temp.png\"\n",
    "        )\n",
    "\n",
    "        fig_measure_mag_sus_gradient_temp = sns.relplot(\n",
    "            data=temp_df,\n",
    "            x=\"natural_temperature\",\n",
    "            y=\"mag_sus_gradient\",\n",
    "            kind=\"line\",\n",
    "        )\n",
    "        fig_measure_mag_sus_gradient_temp.savefig(\n",
    "            SAVE_PATH / \"fig_measure_mag_sus_gradient_temp.png\"\n",
    "        )"
   ]
  },
  {
   "cell_type": "code",
   "execution_count": null,
   "id": "b338f18b",
   "metadata": {
    "papermill": {
     "duration": null,
     "end_time": null,
     "exception": null,
     "start_time": null,
     "status": "completed"
    },
    "tags": []
   },
   "outputs": [],
   "source": [
    "if c.do_measure:\n",
    "    fig_measure_binder_2 = sns.relplot(\n",
    "        data=sample_df,\n",
    "        x=\"natural_temperature\",\n",
    "        y=\"binder_2\",\n",
    "        kind=\"line\",\n",
    "    )\n",
    "    fig_measure_binder_2.savefig(SAVE_PATH / \"fig_measure_binder_2.png\")\n",
    "\n",
    "    fig_measure_binder_4 = sns.relplot(\n",
    "        data=sample_df,\n",
    "        x=\"natural_temperature\",\n",
    "        y=\"binder_4\",\n",
    "        kind=\"line\",\n",
    "    )\n",
    "    fig_measure_binder_4.savefig(SAVE_PATH / \"fig_measure_binder_4.png\")"
   ]
  },
  {
   "cell_type": "code",
   "execution_count": null,
   "id": "b8d0f2d4",
   "metadata": {
    "papermill": {
     "duration": null,
     "end_time": null,
     "exception": null,
     "start_time": null,
     "status": "completed"
    },
    "tags": []
   },
   "outputs": [],
   "source": [
    "with open(SAVE_PATH / \"saved_variables.json\", \"w\") as f:\n",
    "    json.dump(\n",
    "        to_save, f, indent=4, sort_keys=True, ensure_ascii=False, cls=NumpyEncoder\n",
    "    )"
   ]
  }
 ],
 "metadata": {
  "interpreter": {
   "hash": "93eb525e7aacff63e8c0e5f074a10ab3e6847dc75d2c49f0ed655badd2f2af2a"
  },
  "kernelspec": {
   "display_name": "Python 3 (ipykernel)",
   "language": "python",
   "name": "python3"
  },
  "language_info": {
   "codemirror_mode": {
    "name": "ipython",
    "version": 3
   },
   "file_extension": ".py",
   "mimetype": "text/x-python",
   "name": "python",
   "nbconvert_exporter": "python",
   "pygments_lexer": "ipython3",
   "version": "3.11.3"
  },
  "papermill": {
   "default_parameters": {},
   "duration": 632.644323,
   "end_time": "2023-04-26T19:41:37.071319",
   "environment_variables": {},
   "exception": null,
   "input_path": "workbench.ipynb",
   "output_path": "experiments/measure/N224_wolff/experiment.ipynb",
   "parameters": {
    "ALGORITHM": "wolff",
    "CHECK_THERMALISED": true,
    "DIMENSIONS": 2,
    "DO_AUTOCORRELATION": false,
    "DO_MEASURE": true,
    "JAX_PLATFORM": "tpu",
    "MEASURE_EQUILIBRIUM_NUM": 25,
    "MEASURE_EQUILIBRIUM_STEPS": 100,
    "MEASURE_EQUILIBRIUM_SWEEPS_PER_STEP": 50,
    "N_SAMPLES_VECTORISE": 4,
    "N_TEMPS": 64,
    "PAPERMILL": true,
    "PAPERMILL_INPUT_PATH": "workbench.ipynb",
    "PAPERMILL_OUTPUT_PATH": "experiments/measure/N224_wolff/experiment.ipynb",
    "PLOT_STATES": false,
    "RNG_SEED": 1,
    "SIZE": 224,
    "SPIN": 0.5,
    "TEMP_MAX": 1.4,
    "TEMP_MIN": 0.9,
    "THERMALISE_STEPS": 100,
    "THERMALISE_SWEEPS_PER_STEP": 150,
    "TOTAL_SAMPLES": 256
   },
   "start_time": "2023-04-26T19:31:04.426996",
   "version": "2.4.0"
  }
 },
 "nbformat": 4,
 "nbformat_minor": 5
}